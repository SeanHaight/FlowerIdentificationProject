{
 "cells": [
  {
   "cell_type": "code",
   "execution_count": 17,
   "metadata": {},
   "outputs": [],
   "source": [
    "import pandas as pd\n",
    "\n",
    "#Display entire column\n",
    "pd.set_option('display.max_colwidth', None)"
   ]
  },
  {
   "cell_type": "code",
   "execution_count": 27,
   "metadata": {},
   "outputs": [],
   "source": [
    "#Read the downloaded occurence data as a dataframe\n",
    "ob_data = pd.read_csv(\"../../Data/rawData/PNW/occurrence.txt\",sep='\\t')\n",
    "photo_data = pd.read_csv(\"../../Data/rawData/PNW/multimedia.txt\", sep='\\t')\n",
    "\n",
    "#These two tables can be linked along the 'gbifID' column"
   ]
  },
  {
   "cell_type": "code",
   "execution_count": 30,
   "metadata": {},
   "outputs": [],
   "source": [
    "#First we drop the irrelevant columns from ob_data\n",
    "ob_data = ob_data[['gbifID', 'references', 'reproductiveCondition', 'year', 'month', 'day', 'decimalLatitude', 'decimalLongitude', 'species', 'genus', 'family', 'order']]\n",
    "\n",
    "#Next we drop the rows with null values \n",
    "ob_data = ob_data.dropna()\n",
    "\n",
    "#We will not be studying grasses as their flowers are relatively inconspicuous. Hence we drop the order Poales\n",
    "ob_data = ob_data[ob_data['order'] != 'Poales']"
   ]
  },
  {
   "cell_type": "code",
   "execution_count": 87,
   "metadata": {},
   "outputs": [],
   "source": [
    "#Next we want to get image links for each of the following. We write a function which gets an image for each of the above observations under the following conditions: \n",
    "#   The image must be hosted by amazon web services \n",
    "#   The image must be a jpg or jpeg\n",
    "#   We only retrieve the first image url for each observation\n",
    "#   Rather than the original photo, we want the square photo\n",
    "def get_pix(id):\n",
    "    rel_pix = photo_data[photo_data['gbifID'] == id]\n",
    "    try:\n",
    "        first_pic = rel_pix.iloc[0]\n",
    "        link = first_pic['identifier']\n",
    "        #Check if the image is hosted by amazon\n",
    "        corr_host = ('amazonaws' in link)\n",
    "        first_ext = link.split('.')[-1]\n",
    "        corr_extension = first_ext.lower() in ['jpg', 'jpeg']\n",
    "        if corr_host and corr_extension:\n",
    "            link_list = link.split('/')\n",
    "            link_list[-1] = 'square' + '.' + first_ext\n",
    "            square_link = '/'.join(link_list)\n",
    "            return square_link\n",
    "        else:\n",
    "            return None\n",
    "    except:\n",
    "        print('exception')\n",
    "        return None\n",
    "    "
   ]
  },
  {
   "cell_type": "code",
   "execution_count": 89,
   "metadata": {},
   "outputs": [],
   "source": [
    "ordered_pix = ob_data['gbifID'].apply(get_pix)\n",
    "ob_data['photo_link'] = ordered_pix\n",
    "ob_data = ob_data.dropna()"
   ]
  },
  {
   "cell_type": "code",
   "execution_count": 122,
   "metadata": {},
   "outputs": [],
   "source": [
    "#For each observation we download a photo and name it using the gbifID. The method below generates this file name for each observation\n",
    "def get_extension(id):\n",
    "    try:\n",
    "        photo_link = ob_data[ob_data['gbifID'] == id]['photo_link'].iloc[0]\n",
    "        ext = photo_link.split('.')[-1]\n",
    "        return ext\n",
    "    except:\n",
    "        print(id)\n",
    "\n",
    "\n",
    "\n",
    "def get_filename(id):\n",
    "    ext = ob_data[ob_data['gbifID'] == id]['extension'].iloc[0]\n",
    "    if ext == None:\n",
    "        return None\n",
    "    \n",
    "\n",
    "    return str(id) + '.' + ext\n"
   ]
  },
  {
   "cell_type": "code",
   "execution_count": 124,
   "metadata": {},
   "outputs": [
    {
     "name": "stderr",
     "output_type": "stream",
     "text": [
      "C:\\Users\\Sean Haight\\AppData\\Local\\Temp\\ipykernel_11564\\4210547086.py:1: SettingWithCopyWarning: \n",
      "A value is trying to be set on a copy of a slice from a DataFrame.\n",
      "Try using .loc[row_indexer,col_indexer] = value instead\n",
      "\n",
      "See the caveats in the documentation: https://pandas.pydata.org/pandas-docs/stable/user_guide/indexing.html#returning-a-view-versus-a-copy\n",
      "  ob_data['extension'] = ob_data['gbifID'].apply(get_extension)\n",
      "C:\\Users\\Sean Haight\\AppData\\Local\\Temp\\ipykernel_11564\\4210547086.py:2: SettingWithCopyWarning: \n",
      "A value is trying to be set on a copy of a slice from a DataFrame.\n",
      "Try using .loc[row_indexer,col_indexer] = value instead\n",
      "\n",
      "See the caveats in the documentation: https://pandas.pydata.org/pandas-docs/stable/user_guide/indexing.html#returning-a-view-versus-a-copy\n",
      "  ob_data['file_name'] = ob_data['gbifID'].apply(get_filename)\n"
     ]
    }
   ],
   "source": [
    "ob_data['extension'] = ob_data['gbifID'].apply(get_extension)\n",
    "ob_data['file_name'] = ob_data['gbifID'].apply(get_filename)"
   ]
  }
 ],
 "metadata": {
  "kernelspec": {
   "display_name": "Python 3",
   "language": "python",
   "name": "python3"
  },
  "language_info": {
   "codemirror_mode": {
    "name": "ipython",
    "version": 3
   },
   "file_extension": ".py",
   "mimetype": "text/x-python",
   "name": "python",
   "nbconvert_exporter": "python",
   "pygments_lexer": "ipython3",
   "version": "3.11.3"
  }
 },
 "nbformat": 4,
 "nbformat_minor": 2
}
