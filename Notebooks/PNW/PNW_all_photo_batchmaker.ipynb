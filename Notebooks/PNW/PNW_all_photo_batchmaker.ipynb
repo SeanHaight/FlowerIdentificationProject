{
 "cells": [
  {
   "cell_type": "code",
   "execution_count": 1,
   "metadata": {},
   "outputs": [],
   "source": [
    "import pandas as pd"
   ]
  },
  {
   "cell_type": "code",
   "execution_count": 21,
   "metadata": {},
   "outputs": [],
   "source": [
    "data= pd.read_csv('../../Data/rawData/PNW/PNW_angiosperm_photos.csv', sep='\\t')\n",
    "processed_data = data[[\"photo_url_square\", \"extension\", \"photo_id\", \"latitude\", \"longitude\", \"observed_on\", \"taxon_name\", \"rank\", \"ancestry\"]].dropna()"
   ]
  },
  {
   "cell_type": "code",
   "execution_count": 22,
   "metadata": {},
   "outputs": [
    {
     "data": {
      "text/html": [
       "<div>\n",
       "<style scoped>\n",
       "    .dataframe tbody tr th:only-of-type {\n",
       "        vertical-align: middle;\n",
       "    }\n",
       "\n",
       "    .dataframe tbody tr th {\n",
       "        vertical-align: top;\n",
       "    }\n",
       "\n",
       "    .dataframe thead th {\n",
       "        text-align: right;\n",
       "    }\n",
       "</style>\n",
       "<table border=\"1\" class=\"dataframe\">\n",
       "  <thead>\n",
       "    <tr style=\"text-align: right;\">\n",
       "      <th></th>\n",
       "      <th>photo_url_square</th>\n",
       "      <th>extension</th>\n",
       "      <th>photo_id</th>\n",
       "      <th>latitude</th>\n",
       "      <th>longitude</th>\n",
       "      <th>observed_on</th>\n",
       "      <th>taxon_name</th>\n",
       "      <th>rank</th>\n",
       "      <th>ancestry</th>\n",
       "    </tr>\n",
       "  </thead>\n",
       "  <tbody>\n",
       "    <tr>\n",
       "      <th>0</th>\n",
       "      <td>https://inaturalist-open-data.s3.amazonaws.com...</td>\n",
       "      <td>jpg</td>\n",
       "      <td>20187</td>\n",
       "      <td>46.789153</td>\n",
       "      <td>-121.735554</td>\n",
       "      <td>2010-08-13</td>\n",
       "      <td>Polemonium californicum</td>\n",
       "      <td>species</td>\n",
       "      <td>48460/47126/211194/47125/47124/47181/48932/48933</td>\n",
       "    </tr>\n",
       "    <tr>\n",
       "      <th>1</th>\n",
       "      <td>https://inaturalist-open-data.s3.amazonaws.com...</td>\n",
       "      <td>jpg</td>\n",
       "      <td>23406</td>\n",
       "      <td>45.918975</td>\n",
       "      <td>-123.974276</td>\n",
       "      <td>2009-09-15</td>\n",
       "      <td>Baccharis pilularis consanguinea</td>\n",
       "      <td>subspecies</td>\n",
       "      <td>48460/47126/211194/47125/47124/47605/47604/632...</td>\n",
       "    </tr>\n",
       "    <tr>\n",
       "      <th>2</th>\n",
       "      <td>https://inaturalist-open-data.s3.amazonaws.com...</td>\n",
       "      <td>jpg</td>\n",
       "      <td>24243</td>\n",
       "      <td>43.833109</td>\n",
       "      <td>-124.152095</td>\n",
       "      <td>2011-03-05</td>\n",
       "      <td>Garrya elliptica</td>\n",
       "      <td>species</td>\n",
       "      <td>48460/47126/211194/47125/47124/53400/53401/53402</td>\n",
       "    </tr>\n",
       "    <tr>\n",
       "      <th>3</th>\n",
       "      <td>https://inaturalist-open-data.s3.amazonaws.com...</td>\n",
       "      <td>jpg</td>\n",
       "      <td>24244</td>\n",
       "      <td>43.822140</td>\n",
       "      <td>-124.156334</td>\n",
       "      <td>2011-03-05</td>\n",
       "      <td>Cytisus scoparius</td>\n",
       "      <td>species</td>\n",
       "      <td>48460/47126/211194/47125/47124/47123/47122/507...</td>\n",
       "    </tr>\n",
       "    <tr>\n",
       "      <th>4</th>\n",
       "      <td>https://inaturalist-open-data.s3.amazonaws.com...</td>\n",
       "      <td>jpg</td>\n",
       "      <td>24245</td>\n",
       "      <td>43.818100</td>\n",
       "      <td>-124.161491</td>\n",
       "      <td>2011-03-05</td>\n",
       "      <td>Claytonia exigua glauca</td>\n",
       "      <td>subspecies</td>\n",
       "      <td>48460/47126/211194/47125/47124/47366/71417/529...</td>\n",
       "    </tr>\n",
       "    <tr>\n",
       "      <th>...</th>\n",
       "      <td>...</td>\n",
       "      <td>...</td>\n",
       "      <td>...</td>\n",
       "      <td>...</td>\n",
       "      <td>...</td>\n",
       "      <td>...</td>\n",
       "      <td>...</td>\n",
       "      <td>...</td>\n",
       "      <td>...</td>\n",
       "    </tr>\n",
       "    <tr>\n",
       "      <th>2819363</th>\n",
       "      <td>https://inaturalist-open-data.s3.amazonaws.com...</td>\n",
       "      <td>jpeg</td>\n",
       "      <td>348207502</td>\n",
       "      <td>46.784711</td>\n",
       "      <td>-121.748353</td>\n",
       "      <td>2023-09-19</td>\n",
       "      <td>Symphyotrichum foliaceum</td>\n",
       "      <td>species</td>\n",
       "      <td>48460/47126/211194/47125/47124/47605/47604/632...</td>\n",
       "    </tr>\n",
       "    <tr>\n",
       "      <th>2819364</th>\n",
       "      <td>https://inaturalist-open-data.s3.amazonaws.com...</td>\n",
       "      <td>jpeg</td>\n",
       "      <td>348207533</td>\n",
       "      <td>46.784711</td>\n",
       "      <td>-121.748353</td>\n",
       "      <td>2023-09-19</td>\n",
       "      <td>Symphyotrichum foliaceum</td>\n",
       "      <td>species</td>\n",
       "      <td>48460/47126/211194/47125/47124/47605/47604/632...</td>\n",
       "    </tr>\n",
       "    <tr>\n",
       "      <th>2819365</th>\n",
       "      <td>https://inaturalist-open-data.s3.amazonaws.com...</td>\n",
       "      <td>jpeg</td>\n",
       "      <td>348207540</td>\n",
       "      <td>46.784711</td>\n",
       "      <td>-121.748353</td>\n",
       "      <td>2023-09-19</td>\n",
       "      <td>Symphyotrichum foliaceum</td>\n",
       "      <td>species</td>\n",
       "      <td>48460/47126/211194/47125/47124/47605/47604/632...</td>\n",
       "    </tr>\n",
       "    <tr>\n",
       "      <th>2819366</th>\n",
       "      <td>https://inaturalist-open-data.s3.amazonaws.com...</td>\n",
       "      <td>jpeg</td>\n",
       "      <td>348207528</td>\n",
       "      <td>46.784711</td>\n",
       "      <td>-121.748353</td>\n",
       "      <td>2023-09-19</td>\n",
       "      <td>Symphyotrichum foliaceum</td>\n",
       "      <td>species</td>\n",
       "      <td>48460/47126/211194/47125/47124/47605/47604/632...</td>\n",
       "    </tr>\n",
       "    <tr>\n",
       "      <th>2819367</th>\n",
       "      <td>https://inaturalist-open-data.s3.amazonaws.com...</td>\n",
       "      <td>jpg</td>\n",
       "      <td>348209556</td>\n",
       "      <td>47.911155</td>\n",
       "      <td>-116.703208</td>\n",
       "      <td>2023-07-01</td>\n",
       "      <td>Spiraea</td>\n",
       "      <td>genus</td>\n",
       "      <td>48460/47126/211194/47125/47124/47132/47148/922...</td>\n",
       "    </tr>\n",
       "  </tbody>\n",
       "</table>\n",
       "<p>2816450 rows × 9 columns</p>\n",
       "</div>"
      ],
      "text/plain": [
       "                                          photo_url_square extension  \\\n",
       "0        https://inaturalist-open-data.s3.amazonaws.com...       jpg   \n",
       "1        https://inaturalist-open-data.s3.amazonaws.com...       jpg   \n",
       "2        https://inaturalist-open-data.s3.amazonaws.com...       jpg   \n",
       "3        https://inaturalist-open-data.s3.amazonaws.com...       jpg   \n",
       "4        https://inaturalist-open-data.s3.amazonaws.com...       jpg   \n",
       "...                                                    ...       ...   \n",
       "2819363  https://inaturalist-open-data.s3.amazonaws.com...      jpeg   \n",
       "2819364  https://inaturalist-open-data.s3.amazonaws.com...      jpeg   \n",
       "2819365  https://inaturalist-open-data.s3.amazonaws.com...      jpeg   \n",
       "2819366  https://inaturalist-open-data.s3.amazonaws.com...      jpeg   \n",
       "2819367  https://inaturalist-open-data.s3.amazonaws.com...       jpg   \n",
       "\n",
       "          photo_id   latitude   longitude observed_on  \\\n",
       "0            20187  46.789153 -121.735554  2010-08-13   \n",
       "1            23406  45.918975 -123.974276  2009-09-15   \n",
       "2            24243  43.833109 -124.152095  2011-03-05   \n",
       "3            24244  43.822140 -124.156334  2011-03-05   \n",
       "4            24245  43.818100 -124.161491  2011-03-05   \n",
       "...            ...        ...         ...         ...   \n",
       "2819363  348207502  46.784711 -121.748353  2023-09-19   \n",
       "2819364  348207533  46.784711 -121.748353  2023-09-19   \n",
       "2819365  348207540  46.784711 -121.748353  2023-09-19   \n",
       "2819366  348207528  46.784711 -121.748353  2023-09-19   \n",
       "2819367  348209556  47.911155 -116.703208  2023-07-01   \n",
       "\n",
       "                               taxon_name        rank  \\\n",
       "0                 Polemonium californicum     species   \n",
       "1        Baccharis pilularis consanguinea  subspecies   \n",
       "2                        Garrya elliptica     species   \n",
       "3                       Cytisus scoparius     species   \n",
       "4                 Claytonia exigua glauca  subspecies   \n",
       "...                                   ...         ...   \n",
       "2819363          Symphyotrichum foliaceum     species   \n",
       "2819364          Symphyotrichum foliaceum     species   \n",
       "2819365          Symphyotrichum foliaceum     species   \n",
       "2819366          Symphyotrichum foliaceum     species   \n",
       "2819367                           Spiraea       genus   \n",
       "\n",
       "                                                  ancestry  \n",
       "0         48460/47126/211194/47125/47124/47181/48932/48933  \n",
       "1        48460/47126/211194/47125/47124/47605/47604/632...  \n",
       "2         48460/47126/211194/47125/47124/53400/53401/53402  \n",
       "3        48460/47126/211194/47125/47124/47123/47122/507...  \n",
       "4        48460/47126/211194/47125/47124/47366/71417/529...  \n",
       "...                                                    ...  \n",
       "2819363  48460/47126/211194/47125/47124/47605/47604/632...  \n",
       "2819364  48460/47126/211194/47125/47124/47605/47604/632...  \n",
       "2819365  48460/47126/211194/47125/47124/47605/47604/632...  \n",
       "2819366  48460/47126/211194/47125/47124/47605/47604/632...  \n",
       "2819367  48460/47126/211194/47125/47124/47132/47148/922...  \n",
       "\n",
       "[2816450 rows x 9 columns]"
      ]
     },
     "execution_count": 22,
     "metadata": {},
     "output_type": "execute_result"
    }
   ],
   "source": [
    "processed_data"
   ]
  },
  {
   "cell_type": "code",
   "execution_count": 23,
   "metadata": {},
   "outputs": [],
   "source": [
    "def get_year(date_str):\n",
    "    return int(date_str[0:4])\n",
    "\n",
    "def get_month(date_str):\n",
    "    return int(date_str[5:7])\n",
    "\n",
    "def get_day(date_str):\n",
    "    return int(date_str[8:])\n",
    "\n",
    "processed_data[\"year\"] = processed_data[\"observed_on\"].apply(get_year)\n",
    "processed_data[\"month\"] = processed_data[\"observed_on\"].apply(get_month)\n",
    "processed_data[\"day\"] = processed_data[\"observed_on\"].apply(get_day)\n",
    "processed_data = processed_data.drop(\"observed_on\", axis=1)"
   ]
  },
  {
   "cell_type": "code",
   "execution_count": 34,
   "metadata": {},
   "outputs": [],
   "source": [
    "ob_count_list = []\n",
    "year_list = processed_data[\"year\"].unique()\n",
    "year_list.sort()\n",
    "for year in year_list:\n",
    "    ob_count_list.append((year, processed_data[processed_data[\"year\"] == year].shape[0]))"
   ]
  },
  {
   "cell_type": "code",
   "execution_count": 35,
   "metadata": {},
   "outputs": [
    {
     "data": {
      "text/plain": [
       "[(1964, 1),\n",
       " (1965, 3),\n",
       " (1969, 13),\n",
       " (1971, 2),\n",
       " (1972, 15),\n",
       " (1973, 1),\n",
       " (1974, 1),\n",
       " (1977, 4),\n",
       " (1978, 2),\n",
       " (1980, 71),\n",
       " (1981, 32),\n",
       " (1982, 62),\n",
       " (1983, 19),\n",
       " (1984, 9),\n",
       " (1985, 16),\n",
       " (1986, 18),\n",
       " (1987, 36),\n",
       " (1988, 9),\n",
       " (1989, 61),\n",
       " (1990, 24),\n",
       " (1991, 30),\n",
       " (1992, 22),\n",
       " (1993, 77),\n",
       " (1994, 32),\n",
       " (1995, 55),\n",
       " (1996, 72),\n",
       " (1997, 45),\n",
       " (1998, 96),\n",
       " (1999, 114),\n",
       " (2000, 59),\n",
       " (2001, 156),\n",
       " (2002, 214),\n",
       " (2003, 508),\n",
       " (2004, 1064),\n",
       " (2005, 987),\n",
       " (2006, 1499),\n",
       " (2007, 2254),\n",
       " (2008, 2590),\n",
       " (2009, 3845),\n",
       " (2010, 4499),\n",
       " (2011, 5885),\n",
       " (2012, 5970),\n",
       " (2013, 7059),\n",
       " (2014, 11871),\n",
       " (2015, 12096),\n",
       " (2016, 34202),\n",
       " (2017, 69775),\n",
       " (2018, 97918),\n",
       " (2019, 230909),\n",
       " (2020, 367550),\n",
       " (2021, 555137),\n",
       " (2022, 635587),\n",
       " (2023, 757757),\n",
       " (2024, 6117)]"
      ]
     },
     "execution_count": 35,
     "metadata": {},
     "output_type": "execute_result"
    }
   ],
   "source": [
    "ob_count_list"
   ]
  },
  {
   "cell_type": "markdown",
   "metadata": {},
   "source": [
    "Let's focus on images after 2013. "
   ]
  },
  {
   "cell_type": "code",
   "execution_count": 37,
   "metadata": {},
   "outputs": [],
   "source": [
    "processed_data = processed_data[processed_data[\"year\"] > 2013]"
   ]
  },
  {
   "cell_type": "code",
   "execution_count": 57,
   "metadata": {},
   "outputs": [],
   "source": [
    "#We need small photos rather than square photos in order to fit our ResNet model. \n",
    "def get_small_url(url):\n",
    "    url_list = url.split(\".\")\n",
    "    last_word = url_list[-2]\n",
    "    new_last = last_word[:-6] + \"small\"\n",
    "    url_list[-2] = new_last\n",
    "    new_url = \".\".join(url_list)\n",
    "    return new_url\n",
    "\n",
    "processed_data[\"small_url\"] = processed_data[\"photo_url_square\"].apply(get_small_url)\n",
    "processed_data[\"file_name\"] = processed_data[\"photo_id\"].astype(str) + \".\" + processed_data[\"extension\"]"
   ]
  },
  {
   "cell_type": "code",
   "execution_count": 94,
   "metadata": {},
   "outputs": [],
   "source": [
    "sample = processed_data.sample(2002000, random_state=26)"
   ]
  },
  {
   "cell_type": "code",
   "execution_count": 95,
   "metadata": {},
   "outputs": [
    {
     "data": {
      "text/plain": [
       "2001734"
      ]
     },
     "execution_count": 95,
     "metadata": {},
     "output_type": "execute_result"
    }
   ],
   "source": [
    "len(sample[\"photo_id\"].unique())"
   ]
  },
  {
   "cell_type": "code",
   "execution_count": 96,
   "metadata": {},
   "outputs": [
    {
     "data": {
      "text/plain": [
       "2002000"
      ]
     },
     "execution_count": 96,
     "metadata": {},
     "output_type": "execute_result"
    }
   ],
   "source": [
    "10*1001*200"
   ]
  },
  {
   "cell_type": "code",
   "execution_count": 97,
   "metadata": {},
   "outputs": [],
   "source": [
    "#Here is code to create a batch file to download all the necessary images. \n",
    "\n",
    "for k in range(10):\n",
    "    n = 1001\n",
    "    m = 200\n",
    "    with open(\"../../Data/processedData/PNW/Bats/allPhotos\" + str(k) + \".bat\", \"w\") as file:\n",
    "        for j in range(n):\n",
    "            file.write('curl')\n",
    "            for i in range(m):\n",
    "                idx = i + m*j \n",
    "                url = sample['small_url'].iloc[idx]\n",
    "                file_name = sample['file_name'].iloc[idx]\n",
    "                path = 'D:/PNW_Angiosperms/all_photos/'\n",
    "                full_name = path + file_name\n",
    "                file.write(' -o ' + full_name + ' ' + url)\n",
    "            file.write('\\n')"
   ]
  },
  {
   "cell_type": "code",
   "execution_count": null,
   "metadata": {},
   "outputs": [],
   "source": []
  }
 ],
 "metadata": {
  "kernelspec": {
   "display_name": "Python 3",
   "language": "python",
   "name": "python3"
  },
  "language_info": {
   "codemirror_mode": {
    "name": "ipython",
    "version": 3
   },
   "file_extension": ".py",
   "mimetype": "text/x-python",
   "name": "python",
   "nbconvert_exporter": "python",
   "pygments_lexer": "ipython3",
   "version": "3.11.3"
  }
 },
 "nbformat": 4,
 "nbformat_minor": 2
}
