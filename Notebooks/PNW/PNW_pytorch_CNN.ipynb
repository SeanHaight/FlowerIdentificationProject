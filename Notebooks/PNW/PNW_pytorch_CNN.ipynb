{
 "cells": [
  {
   "cell_type": "code",
   "execution_count": 1,
   "metadata": {},
   "outputs": [],
   "source": [
    "import pandas as pd\n",
    "import matplotlib.pyplot as plt\n",
    "import os\n",
    "from sklearn.model_selection import train_test_split\n",
    "\n",
    "import numpy as np\n",
    "\n",
    "\n",
    "import torch\n",
    "import torch.nn as nn\n",
    "import torchvision\n",
    "from torchvision.transforms import v2\n",
    "from torch.utils.data import Dataset\n",
    "\n",
    "#Get rid of SettingWithCopyWarnings\n",
    "pd.options.mode.chained_assignment = None  \n"
   ]
  },
  {
   "cell_type": "code",
   "execution_count": 2,
   "metadata": {},
   "outputs": [],
   "source": [
    "PNW = pd.read_csv('../../Data/processedData/PNW/PNW.csv')\n",
    "PNW = PNW.dropna()\n",
    "PNW[\"flowering\"] = PNW['reproductiveCondition'].isin(['flowering','flowering|fruiting','flowering|fruiting|flower budding','flowering|flower budding']).astype(int)\n",
    "PNW[\"fruiting\"] = PNW['reproductiveCondition'].isin(['fruiting','flowering|fruiting','flowering|fruiting|flower budding','fruiting|flower budding']).astype(int)\n",
    "\n",
    "photoPath = \"../../../PNW_Angiosperms/labeled_photos\""
   ]
  },
  {
   "cell_type": "code",
   "execution_count": 3,
   "metadata": {},
   "outputs": [],
   "source": [
    "#I only have 49,999 so I'm missing one photo. The following code drops that row from the dataframe\n",
    "for fname in PNW['file_name']: \n",
    "    if not os.path.isfile(photoPath + \"/\" + fname):\n",
    "        PNW = PNW[PNW['file_name'] != fname]"
   ]
  },
  {
   "cell_type": "code",
   "execution_count": 4,
   "metadata": {},
   "outputs": [],
   "source": [
    "photos = PNW[[\"file_name\", \"flowering\"]].reset_index(drop=True)\n",
    "photos_train, photos_val = train_test_split(list(photos.index), test_size=.25)\n",
    "p_train= photos.iloc[photos_train]\n",
    "p_val = photos.iloc[photos_val]"
   ]
  },
  {
   "cell_type": "code",
   "execution_count": 5,
   "metadata": {},
   "outputs": [],
   "source": [
    "# Define relevant variables for the ML task\n",
    "batch_size = 64\n",
    "num_classes = 10\n",
    "learning_rate = 0.001\n",
    "num_epochs = 20\n",
    "\n",
    "# Device will determine whether to run the training on GPU or CPU.\n",
    "device = torch.device('cuda' if torch.cuda.is_available() else 'cpu')"
   ]
  },
  {
   "cell_type": "code",
   "execution_count": 6,
   "metadata": {},
   "outputs": [
    {
     "name": "stderr",
     "output_type": "stream",
     "text": [
      "c:\\Users\\Sean Haight\\AppData\\Local\\Programs\\Python\\Python311\\Lib\\site-packages\\torchvision\\transforms\\v2\\_deprecated.py:41: UserWarning: The transform `ToTensor()` is deprecated and will be removed in a future release. Instead, please use `v2.Compose([v2.ToImage(), v2.ToDtype(torch.float32, scale=True)])`.\n",
      "  warnings.warn(\n"
     ]
    }
   ],
   "source": [
    "#Some of our images are .pngs, we drop the alpha. \n",
    "train_transform = v2.Compose([\n",
    "    #Rely on the v2 transforms from torchvision.transforms.v2\n",
    "\n",
    "    #Use tensors instead of PIL images\n",
    "\n",
    "    #Use torch.uint8 dtype, especially for resizing\n",
    "                                v2.ToPILImage(),\n",
    "                                v2.ToTensor(),\n",
    "                                v2.RandomAffine(degrees=(-180,180), translate=(0,.1), scale=(.9,1)),\n",
    "                                v2.RandomHorizontalFlip(p=0.5),\n",
    "                                v2.RandomVerticalFlip(p=0.5),\n",
    "                                v2.ColorJitter(brightness=.3, hue=.01)\n",
    "                               #transforms.Normalize((0.485, 0.456, 0.406), (0.229, 0.224, 0.225)),\n",
    "\n",
    "                            ])\n",
    "val_transform = v2.Compose([\n",
    "                                #transforms.Normalize((0.485, 0.456, 0.406), (0.229, 0.224, 0.225)),\n",
    "                                v2.ToPILImage(),\n",
    "                                v2.ToTensor()\n",
    "                            ])\n",
    "target_transform = v2.Compose([\n",
    "                                v2.Lambda(lambda x: torch.tensor(x).long()),\n",
    "                            ])                         "
   ]
  },
  {
   "cell_type": "code",
   "execution_count": 7,
   "metadata": {},
   "outputs": [],
   "source": [
    "import os\n",
    "import pandas as pd\n",
    "from torchvision.io import read_image\n",
    "\n",
    "class CustomImageDataset(Dataset):\n",
    "    def __init__(self, label_frame, img_dir, transform=None, target_transform=None):\n",
    "        self.img_labels = label_frame\n",
    "        self.img_dir = img_dir\n",
    "        self.transform = transform\n",
    "        self.target_transform = target_transform\n",
    "\n",
    "    def __len__(self):\n",
    "        return len(self.img_labels)\n",
    "\n",
    "    def __getitem__(self, idx):\n",
    "        img_path = os.path.join(self.img_dir, self.img_labels.iloc[idx, 0])\n",
    "        image = read_image(img_path)\n",
    "        label = self.img_labels.iloc[idx, 1]\n",
    "        if self.transform:\n",
    "            image = self.transform(image)\n",
    "        if self.target_transform:\n",
    "            label = self.target_transform(label)\n",
    "        return image, label"
   ]
  },
  {
   "cell_type": "code",
   "execution_count": 8,
   "metadata": {},
   "outputs": [],
   "source": [
    "train_data = CustomImageDataset(p_train, photoPath, train_transform, target_transform)\n",
    "val_data = CustomImageDataset(p_val, photoPath, val_transform, target_transform)"
   ]
  },
  {
   "cell_type": "code",
   "execution_count": 9,
   "metadata": {},
   "outputs": [],
   "source": [
    "from torch.utils.data import DataLoader\n",
    "\n",
    "train_dataloader = DataLoader(train_data, batch_size=64, shuffle=True)\n",
    "val_dataloader = DataLoader(val_data, batch_size=64, shuffle=True)"
   ]
  },
  {
   "cell_type": "code",
   "execution_count": 10,
   "metadata": {},
   "outputs": [
    {
     "name": "stdout",
     "output_type": "stream",
     "text": [
      "Feature batch shape: torch.Size([64, 3, 75, 75])\n",
      "Labels batch shape: torch.Size([64])\n"
     ]
    },
    {
     "data": {
      "image/png": "[encoded data removed]",
      "text/plain": [
       "<Figure size 640x480 with 1 Axes>"
      ]
     },
     "metadata": {},
     "output_type": "display_data"
    },
    {
     "name": "stdout",
     "output_type": "stream",
     "text": [
      "Label: 1\n"
     ]
    }
   ],
   "source": [
    "# Display image and label.\n",
    "train_features, train_labels = next(iter(train_dataloader))\n",
    "print(f\"Feature batch shape: {train_features.size()}\")\n",
    "print(f\"Labels batch shape: {train_labels.size()}\")\n",
    "img = train_features[0].squeeze()\n",
    "label = train_labels[0]\n",
    "plt.imshow(img.permute(1,2,0))\n",
    "plt.show()\n",
    "print(f\"Label: {label}\")"
   ]
  },
  {
   "cell_type": "code",
   "execution_count": 11,
   "metadata": {},
   "outputs": [
    {
     "data": {
      "text/plain": [
       "int"
      ]
     },
     "execution_count": 11,
     "metadata": {},
     "output_type": "execute_result"
    }
   ],
   "source": [
    "type(train_labels[0].item())"
   ]
  },
  {
   "cell_type": "code",
   "execution_count": 12,
   "metadata": {},
   "outputs": [],
   "source": [
    "# Creating a CNN class\n",
    "class ConvNeuralNet(nn.Module):\n",
    "\t#  Determine what layers and their order in CNN object \n",
    "    def __init__(self, num_classes):\n",
    "        super(ConvNeuralNet, self).__init__()\n",
    "        self.conv_layer1 = nn.Conv2d(in_channels=3, out_channels=32, kernel_size=3)\n",
    "        self.conv_layer2 = nn.Conv2d(in_channels=32, out_channels=32, kernel_size=3)\n",
    "        self.max_pool1 = nn.MaxPool2d(kernel_size = 2, stride = 2)\n",
    "        \n",
    "        self.conv_layer3 = nn.Conv2d(in_channels=32, out_channels=64, kernel_size=3)\n",
    "        self.conv_layer4 = nn.Conv2d(in_channels=64, out_channels=64, kernel_size=3)\n",
    "        self.max_pool2 = nn.MaxPool2d(kernel_size = 2, stride = 2)\n",
    "        \n",
    "        self.fc1 = nn.Linear(14400, 128)\n",
    "        self.relu1 = nn.ReLU()\n",
    "        self.fc2 = nn.Linear(128, num_classes)\n",
    "    \n",
    "    # Progresses data across layers    \n",
    "    def forward(self, x):\n",
    "        out = self.conv_layer1(x)\n",
    "        out = self.conv_layer2(out)\n",
    "        out = self.max_pool1(out)\n",
    "        \n",
    "        out = self.conv_layer3(out)\n",
    "        out = self.conv_layer4(out)\n",
    "        out = self.max_pool2(out)\n",
    "                \n",
    "        out = out.reshape(out.size(0), -1)\n",
    "        \n",
    "        out = self.fc1(out)\n",
    "        out = self.relu1(out)\n",
    "        out = self.fc2(out)\n",
    "        return out"
   ]
  },
  {
   "cell_type": "code",
   "execution_count": 13,
   "metadata": {},
   "outputs": [],
   "source": [
    "model = ConvNeuralNet(2).to(device)\n",
    "criterion = torch.nn.CrossEntropyLoss()  \n",
    "optimizer = torch.optim.SGD(model.parameters(), lr=0.001, momentum=0.9)"
   ]
  },
  {
   "cell_type": "code",
   "execution_count": 14,
   "metadata": {},
   "outputs": [],
   "source": [
    "num_epochs = 120"
   ]
  },
  {
   "cell_type": "code",
   "execution_count": 22,
   "metadata": {},
   "outputs": [],
   "source": [
    "def train(num_epochs, lr):\n",
    "    optimizer = torch.optim.SGD(model.parameters(), lr=lr, momentum=0.9)\n",
    "    for epoch in range(num_epochs):\n",
    "        train_loss = 0.0\n",
    "        train_correct = 0\n",
    "        \n",
    "        #Turn the model into training mode\n",
    "        model.train()\n",
    "\n",
    "        for data, target in train_dataloader:\n",
    "            optimizer.zero_grad()\n",
    "            data = data.to(device)\n",
    "            output = model(data)\n",
    "            target=target.to(device)   \n",
    "            loss = criterion(output, target)\n",
    "            loss.backward()\n",
    "            optimizer.step()\n",
    "\n",
    "            train_loss += loss.item() * data.size(0)\n",
    "            _, pred = torch.max(output, 1)\n",
    "            train_correct += (pred == target).sum().item()\n",
    "\n",
    "        train_loss /= len(train_dataloader.dataset)\n",
    "        train_acc = 100.0 * train_correct / len(train_dataloader.dataset)\n",
    "\n",
    "        test_loss = 0.0\n",
    "        test_correct = 0\n",
    "        model.eval()\n",
    "\n",
    "        with torch.no_grad():\n",
    "            for data, target in val_dataloader:\n",
    "                data = data.to(device)\n",
    "                target = target.to(device)\n",
    "                output = model(data)\n",
    "                loss = criterion(output, target)\n",
    "\n",
    "                test_loss += loss.item() * data.size(0)\n",
    "                _, pred = torch.max(output, 1)\n",
    "                test_correct += (pred == target).sum().item()\n",
    "\n",
    "        test_loss /= len(val_dataloader.dataset)\n",
    "        test_acc = 100.0 * test_correct / len(val_dataloader.dataset)\n",
    "\n",
    "        print(f'Epoch {epoch+1}: Train Loss: {train_loss:.4f}, Train Acc: {train_acc:.2f}%, Test Loss: {test_loss:.4f}, Test Acc: {test_acc:.2f}%')"
   ]
  },
  {
   "cell_type": "code",
   "execution_count": 19,
   "metadata": {},
   "outputs": [],
   "source": [
    "torch.save(model.state_dict(), \"../../Models/PNW/pytorch_CNN_1.pt\")"
   ]
  },
  {
   "cell_type": "code",
   "execution_count": 24,
   "metadata": {},
   "outputs": [
    {
     "name": "stdout",
     "output_type": "stream",
     "text": [
      "Epoch 1: Train Loss: 0.5361, Train Acc: 71.10%, Test Loss: 0.5161, Test Acc: 72.82%\n",
      "Epoch 2: Train Loss: 0.5210, Train Acc: 72.20%, Test Loss: 0.5063, Test Acc: 72.92%\n",
      "Epoch 3: Train Loss: 0.5191, Train Acc: 72.25%, Test Loss: 0.5022, Test Acc: 73.32%\n",
      "Epoch 4: Train Loss: 0.5137, Train Acc: 72.35%, Test Loss: 0.5321, Test Acc: 71.34%\n",
      "Epoch 5: Train Loss: 0.5139, Train Acc: 72.25%, Test Loss: 0.5067, Test Acc: 72.77%\n"
     ]
    }
   ],
   "source": [
    "train(5, .01)"
   ]
  },
  {
   "cell_type": "code",
   "execution_count": 25,
   "metadata": {},
   "outputs": [
    {
     "name": "stdout",
     "output_type": "stream",
     "text": [
      "Epoch 1: Train Loss: 0.5105, Train Acc: 72.87%, Test Loss: 0.5109, Test Acc: 73.01%\n",
      "Epoch 2: Train Loss: 0.5083, Train Acc: 72.90%, Test Loss: 0.5098, Test Acc: 73.06%\n",
      "Epoch 3: Train Loss: 0.5078, Train Acc: 73.01%, Test Loss: 0.5142, Test Acc: 73.08%\n",
      "Epoch 4: Train Loss: 0.5062, Train Acc: 72.95%, Test Loss: 0.5033, Test Acc: 73.33%\n",
      "Epoch 5: Train Loss: 0.5049, Train Acc: 73.38%, Test Loss: 0.5016, Test Acc: 73.32%\n",
      "Epoch 6: Train Loss: 0.5018, Train Acc: 73.40%, Test Loss: 0.4989, Test Acc: 73.79%\n",
      "Epoch 7: Train Loss: 0.5036, Train Acc: 73.09%, Test Loss: 0.5066, Test Acc: 73.46%\n",
      "Epoch 8: Train Loss: 0.5035, Train Acc: 73.36%, Test Loss: 0.5001, Test Acc: 73.72%\n",
      "Epoch 9: Train Loss: 0.5031, Train Acc: 73.08%, Test Loss: 0.4966, Test Acc: 73.84%\n",
      "Epoch 10: Train Loss: 0.4990, Train Acc: 73.24%, Test Loss: 0.5005, Test Acc: 73.89%\n",
      "Epoch 11: Train Loss: 0.4995, Train Acc: 73.66%, Test Loss: 0.4999, Test Acc: 73.78%\n",
      "Epoch 12: Train Loss: 0.4971, Train Acc: 73.58%, Test Loss: 0.5003, Test Acc: 73.25%\n",
      "Epoch 13: Train Loss: 0.5013, Train Acc: 73.49%, Test Loss: 0.4923, Test Acc: 74.62%\n",
      "Epoch 14: Train Loss: 0.4967, Train Acc: 73.79%, Test Loss: 0.5072, Test Acc: 73.68%\n",
      "Epoch 15: Train Loss: 0.4955, Train Acc: 73.51%, Test Loss: 0.4880, Test Acc: 74.45%\n",
      "Epoch 16: Train Loss: 0.4971, Train Acc: 73.70%, Test Loss: 0.4984, Test Acc: 74.00%\n",
      "Epoch 17: Train Loss: 0.4949, Train Acc: 73.73%, Test Loss: 0.4918, Test Acc: 73.69%\n",
      "Epoch 18: Train Loss: 0.4951, Train Acc: 73.95%, Test Loss: 0.5040, Test Acc: 74.10%\n",
      "Epoch 19: Train Loss: 0.4947, Train Acc: 73.70%, Test Loss: 0.4892, Test Acc: 74.20%\n",
      "Epoch 20: Train Loss: 0.4924, Train Acc: 73.71%, Test Loss: 0.5094, Test Acc: 73.52%\n",
      "Epoch 21: Train Loss: 0.4917, Train Acc: 74.02%, Test Loss: 0.5093, Test Acc: 74.44%\n",
      "Epoch 22: Train Loss: 0.4929, Train Acc: 73.95%, Test Loss: 0.4912, Test Acc: 74.15%\n",
      "Epoch 23: Train Loss: 0.4924, Train Acc: 73.90%, Test Loss: 0.4891, Test Acc: 73.81%\n",
      "Epoch 24: Train Loss: 0.4911, Train Acc: 74.24%, Test Loss: 0.5114, Test Acc: 74.13%\n",
      "Epoch 25: Train Loss: 0.4907, Train Acc: 74.20%, Test Loss: 0.4993, Test Acc: 74.42%\n"
     ]
    }
   ],
   "source": [
    "train(25, .01)"
   ]
  },
  {
   "cell_type": "code",
   "execution_count": 16,
   "metadata": {},
   "outputs": [],
   "source": [
    "#Add random transformations to training data\n",
    "#Test different hyperparameters\n",
    "#Investigate ways to speed up training (SGD?)"
   ]
  }
 ],
 "metadata": {
  "kernelspec": {
   "display_name": "Python 3",
   "language": "python",
   "name": "python3"
  },
  "language_info": {
   "codemirror_mode": {
    "name": "ipython",
    "version": 3
   },
   "file_extension": ".py",
   "mimetype": "text/x-python",
   "name": "python",
   "nbconvert_exporter": "python",
   "pygments_lexer": "ipython3",
   "version": "3.11.3"
  }
 },
 "nbformat": 4,
 "nbformat_minor": 2
}
