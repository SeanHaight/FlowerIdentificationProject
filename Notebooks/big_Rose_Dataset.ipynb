{
 "cells": [
  {
   "cell_type": "code",
   "execution_count": 13,
   "metadata": {},
   "outputs": [],
   "source": [
    "import pandas as pd\n",
    "import keras\n",
    "from PIL import Image\n",
    "from numpy import asarray\n",
    "from keras.preprocessing.image import load_img\n",
    "from keras.preprocessing.image import img_to_array\n",
    "import numpy as np\n",
    "from tqdm import trange\n",
    "\n",
    "#Get rid of SettingWithCopyWarnings\n",
    "pd.options.mode.chained_assignment = None  "
   ]
  },
  {
   "cell_type": "code",
   "execution_count": 2,
   "metadata": {},
   "outputs": [],
   "source": [
    "#This .csv file comes from running some SQL queries on the iNaturalist open dataset.\n",
    "\n",
    "roses = pd.read_csv('C:/Users/Sean Haight/Desktop/Coding/Erdos Project/Data Science/Flower Identification Project/Data/rawData/RosePictures.csv', sep = \"\\t\")"
   ]
  },
  {
   "cell_type": "code",
   "execution_count": 16,
   "metadata": {},
   "outputs": [],
   "source": [
    "'''\n",
    "Here is code to create a batch file to download all the necessary images. \n",
    "\n",
    "n = 1000\n",
    "m = 200\n",
    "with open(\"C:/Users/Sean Haight/Desktop/Coding/Erdos Project/Data Science/Flower Identification Project/Notebooks/downloadRosePhotos.bat\", \"w\") as file:\n",
    "\n",
    "    for j in range(n):\n",
    "        file.write('curl')\n",
    "        for i in range(m):\n",
    "            ind = i + m*j \n",
    "            if ind < len(roses['photo_url_square']):\n",
    "                url = roses['photo_url_square'][ind]\n",
    "                fileName = 'D:/Roses/' + str(roses['photo_id'][ind]) +'.' + roses['extension'][ind]\n",
    "                file.write(' -o ' + fileName + ' ' + url)\n",
    "        \n",
    "        file.write('\\n')\n",
    "'''"
   ]
  },
  {
   "cell_type": "code",
   "execution_count": 3,
   "metadata": {},
   "outputs": [
    {
     "name": "stdout",
     "output_type": "stream",
     "text": [
      "WARNING:tensorflow:From c:\\Users\\Sean Haight\\AppData\\Local\\Programs\\Python\\Python311\\Lib\\site-packages\\keras\\src\\backend.py:1398: The name tf.executing_eagerly_outside_functions is deprecated. Please use tf.compat.v1.executing_eagerly_outside_functions instead.\n",
      "\n",
      "WARNING:tensorflow:From c:\\Users\\Sean Haight\\AppData\\Local\\Programs\\Python\\Python311\\Lib\\site-packages\\keras\\src\\layers\\pooling\\max_pooling2d.py:161: The name tf.nn.max_pool is deprecated. Please use tf.nn.max_pool2d instead.\n",
      "\n"
     ]
    }
   ],
   "source": [
    "#We need to label each rose images using our trained model\n",
    "\n",
    "model = keras.models.load_model('../Models/roseModel.keras')"
   ]
  },
  {
   "cell_type": "code",
   "execution_count": 69,
   "metadata": {},
   "outputs": [
    {
     "name": "stderr",
     "output_type": "stream",
     "text": [
      "  1%|          | 1/194 [00:04<14:33,  4.52s/it]"
     ]
    },
    {
     "name": "stdout",
     "output_type": "stream",
     "text": [
      "D:\\Roses\\5453247.jpg\n"
     ]
    },
    {
     "name": "stderr",
     "output_type": "stream",
     "text": [
      "  1%|          | 2/194 [00:09<14:40,  4.58s/it]"
     ]
    },
    {
     "name": "stdout",
     "output_type": "stream",
     "text": [
      "999\n",
      "319\n",
      "1000\n"
     ]
    },
    {
     "name": "stderr",
     "output_type": "stream",
     "text": [
      " 22%|██▏       | 43/194 [03:03<10:31,  4.18s/it]"
     ]
    },
    {
     "name": "stdout",
     "output_type": "stream",
     "text": [
      "D:\\Roses\\202369041.jpg\n",
      "D:\\Roses\\202940477.jpg\n",
      "D:\\Roses\\203307842.jpg\n"
     ]
    },
    {
     "name": "stderr",
     "output_type": "stream",
     "text": [
      " 23%|██▎       | 44/194 [03:07<10:27,  4.19s/it]"
     ]
    },
    {
     "name": "stdout",
     "output_type": "stream",
     "text": [
      "997\n",
      "529\n",
      "998\n",
      "998\n",
      "754\n",
      "999\n",
      "999\n",
      "935\n",
      "1000\n",
      "D:\\Roses\\204284540.jpg\n",
      "D:\\Roses\\205032973.jpg\n"
     ]
    },
    {
     "name": "stderr",
     "output_type": "stream",
     "text": [
      " 23%|██▎       | 45/194 [03:11<10:24,  4.19s/it]"
     ]
    },
    {
     "name": "stdout",
     "output_type": "stream",
     "text": [
      "998\n",
      "401\n",
      "999\n",
      "999\n",
      "671\n",
      "1000\n"
     ]
    },
    {
     "name": "stderr",
     "output_type": "stream",
     "text": [
      " 26%|██▌       | 50/194 [03:33<10:05,  4.20s/it]"
     ]
    },
    {
     "name": "stdout",
     "output_type": "stream",
     "text": [
      "D:\\Roses\\246033316.jpg\n"
     ]
    },
    {
     "name": "stderr",
     "output_type": "stream",
     "text": [
      " 26%|██▋       | 51/194 [03:37<09:58,  4.19s/it]"
     ]
    },
    {
     "name": "stdout",
     "output_type": "stream",
     "text": [
      "999\n",
      "310\n",
      "1000\n",
      "D:\\Roses\\256068591.jpg\n"
     ]
    },
    {
     "name": "stderr",
     "output_type": "stream",
     "text": [
      " 27%|██▋       | 52/194 [03:41<09:52,  4.17s/it]"
     ]
    },
    {
     "name": "stdout",
     "output_type": "stream",
     "text": [
      "999\n",
      "153\n",
      "1000\n"
     ]
    },
    {
     "name": "stderr",
     "output_type": "stream",
     "text": [
      " 33%|███▎      | 64/194 [04:32<09:13,  4.26s/it]"
     ]
    },
    {
     "name": "stdout",
     "output_type": "stream",
     "text": [
      "D:\\Roses\\326981270.jpg\n"
     ]
    },
    {
     "name": "stderr",
     "output_type": "stream",
     "text": [
      " 34%|███▎      | 65/194 [04:36<09:06,  4.24s/it]"
     ]
    },
    {
     "name": "stdout",
     "output_type": "stream",
     "text": [
      "999\n",
      "969\n",
      "1000\n",
      "D:\\Roses\\327751725.jpg\n",
      "D:\\Roses\\329567401.jpg\n"
     ]
    },
    {
     "name": "stderr",
     "output_type": "stream",
     "text": [
      " 34%|███▍      | 66/194 [04:41<08:58,  4.21s/it]"
     ]
    },
    {
     "name": "stdout",
     "output_type": "stream",
     "text": [
      "998\n",
      "89\n",
      "999\n",
      "999\n",
      "395\n",
      "1000\n",
      "D:\\Roses\\338826901.jpg\n"
     ]
    },
    {
     "name": "stderr",
     "output_type": "stream",
     "text": [
      " 35%|███▍      | 67/194 [04:45<08:52,  4.20s/it]"
     ]
    },
    {
     "name": "stdout",
     "output_type": "stream",
     "text": [
      "999\n",
      "557\n",
      "1000\n"
     ]
    },
    {
     "name": "stderr",
     "output_type": "stream",
     "text": [
      " 49%|████▉     | 96/194 [06:47<06:48,  4.17s/it]"
     ]
    },
    {
     "name": "stdout",
     "output_type": "stream",
     "text": [
      "D:\\Roses\\208364543.jpg\n"
     ]
    },
    {
     "name": "stderr",
     "output_type": "stream",
     "text": [
      " 50%|█████     | 97/194 [06:51<06:45,  4.18s/it]"
     ]
    },
    {
     "name": "stdout",
     "output_type": "stream",
     "text": [
      "999\n",
      "792\n",
      "1000\n"
     ]
    },
    {
     "name": "stderr",
     "output_type": "stream",
     "text": [
      " 95%|█████████▍| 184/194 [12:58<00:43,  4.31s/it]"
     ]
    },
    {
     "name": "stdout",
     "output_type": "stream",
     "text": [
      "D:\\Roses\\75314791.jpg\n"
     ]
    },
    {
     "name": "stderr",
     "output_type": "stream",
     "text": [
      " 95%|█████████▌| 185/194 [13:03<00:40,  4.56s/it]"
     ]
    },
    {
     "name": "stdout",
     "output_type": "stream",
     "text": [
      "999\n",
      "381\n",
      "1000\n"
     ]
    },
    {
     "name": "stderr",
     "output_type": "stream",
     "text": [
      "100%|██████████| 194/194 [13:44<00:00,  4.25s/it]\n"
     ]
    }
   ],
   "source": [
    "#First we add a file directory to each photo\n",
    "path = \"D:\\Roses\\\\\"\n",
    "roses['fileName'] = path + roses['photo_id'].astype(str) + '.' + roses['extension']\n",
    "roses['inBloom'] = None\n",
    "n = 194\n",
    "m = 1000\n",
    "preds = []\n",
    "#Loop through the images and add the model predictions to our dataframe\n",
    "for j in trange(n):\n",
    "    listOfImages = []\n",
    "    exceptions = []\n",
    "    for i in range(m):\n",
    "        ind = i + m*j \n",
    "        if ind < len(roses):\n",
    "            #Some of the images did not download properly or were missing, about 15/193,000\n",
    "            try:\n",
    "                imgDir = roses['fileName'][ind]\n",
    "                img = load_img(imgDir)\n",
    "                imgArray = img_to_array(img)\n",
    "\n",
    "                #Rescale according to the model architecture\n",
    "                imgArray = imgArray/255\n",
    "                listOfImages.append(imgArray)\n",
    "            except:\n",
    "                exceptions.append(i)\n",
    "        else: \n",
    "            break\n",
    "    #If the model prediction is larger than .5 we assume that is an image of a flower.\n",
    "    pred = (model.predict(np.array(listOfImages), verbose = 0) > .5).flatten()\n",
    "    #Label the missing images with 'None'\n",
    "    for e in exceptions:\n",
    "        pred = np.insert(pred, e, None)\n",
    "    roses['inBloom'][j*m:min((j + 1)*m, len(roses))] = pred"
   ]
  },
  {
   "cell_type": "code",
   "execution_count": 84,
   "metadata": {},
   "outputs": [],
   "source": [
    "#Write our updated dataframe to file as a CSV\n",
    "roses.to_csv('../Data/processedData/labeledBigRose.csv', sep='\\t')"
   ]
  }
 ],
 "metadata": {
  "kernelspec": {
   "display_name": "Python 3",
   "language": "python",
   "name": "python3"
  },
  "language_info": {
   "codemirror_mode": {
    "name": "ipython",
    "version": 3
   },
   "file_extension": ".py",
   "mimetype": "text/x-python",
   "name": "python",
   "nbconvert_exporter": "python",
   "pygments_lexer": "ipython3",
   "version": "3.11.3"
  }
 },
 "nbformat": 4,
 "nbformat_minor": 2
}
