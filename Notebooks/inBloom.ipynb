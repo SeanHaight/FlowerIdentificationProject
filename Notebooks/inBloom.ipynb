{
 "cells": [
  {
   "cell_type": "markdown",
   "metadata": {},
   "source": [
    "1. Import data into dataframe\n",
    "2. Label annotated observations properly\n",
    "3. Build classifier"
   ]
  },
  {
   "cell_type": "markdown",
   "metadata": {},
   "source": [
    "First we import the data into a dataframe"
   ]
  },
  {
   "cell_type": "code",
   "execution_count": 1,
   "metadata": {},
   "outputs": [],
   "source": [
    "import pandas as pd\n",
    "import matplotlib.pyplot as plt\n",
    "import numpy as np\n",
    "from sklearn.linear_model import LogisticRegression\n",
    "from sklearn.model_selection import KFold\n",
    "import pyinaturalist\n",
    "import time\n",
    "import requests"
   ]
  },
  {
   "cell_type": "code",
   "execution_count": 2,
   "metadata": {},
   "outputs": [
    {
     "name": "stderr",
     "output_type": "stream",
     "text": [
      "C:\\Users\\Sean Haight\\AppData\\Local\\Temp\\ipykernel_17780\\4254718079.py:1: DtypeWarning: Columns (29) have mixed types. Specify dtype option on import or set low_memory=False.\n",
      "  flowerObs = pd.read_csv(\"rawData/occurrence.txt\",sep='\\t')\n"
     ]
    }
   ],
   "source": [
    "#Read the downloaded rose occurence data as a dataframe\n",
    "flowerObs = pd.read_csv(\"rawData/occurrence.txt\",sep='\\t')\n",
    "\n",
    "#Drop the extra columns\n",
    "flowerObs = flowerObs.drop(columns=['continent', 'stateProvince', 'countryCode', 'coordinateUncertaintyInMeters', 'identificationID', 'identifiedBy', 'identifiedByID', 'dateIdentified'])\n",
    "\n",
    "#Write to file\n",
    "flowerObs.to_csv(\"processedData/roseObs\")"
   ]
  }
 ],
 "metadata": {
  "kernelspec": {
   "display_name": "Python 3",
   "language": "python",
   "name": "python3"
  },
  "language_info": {
   "codemirror_mode": {
    "name": "ipython",
    "version": 3
   },
   "file_extension": ".py",
   "mimetype": "text/x-python",
   "name": "python",
   "nbconvert_exporter": "python",
   "pygments_lexer": "ipython3",
   "version": "3.11.3"
  },
  "orig_nbformat": 4
 },
 "nbformat": 4,
 "nbformat_minor": 2
}
