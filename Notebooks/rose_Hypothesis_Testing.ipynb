{
 "cells": [
  {
   "cell_type": "code",
   "execution_count": 101,
   "metadata": {},
   "outputs": [],
   "source": [
    "import pandas as pd\n",
    "import matplotlib.pyplot as plt\n",
    "import numpy as np\n",
    "#Get rid of SettingWithCopyWarnings\n",
    "from sklearn.linear_model import LinearRegression\n",
    "pd.options.mode.chained_assignment = None  \n",
    "import scipy.stats as stats"
   ]
  },
  {
   "cell_type": "code",
   "execution_count": 2,
   "metadata": {},
   "outputs": [],
   "source": [
    "roses = pd.read_csv('../Data/processedData/labeledBigRose.csv', sep='\\t')"
   ]
  },
  {
   "cell_type": "code",
   "execution_count": 5,
   "metadata": {},
   "outputs": [
    {
     "data": {
      "text/html": [
       "<div>\n",
       "<style scoped>\n",
       "    .dataframe tbody tr th:only-of-type {\n",
       "        vertical-align: middle;\n",
       "    }\n",
       "\n",
       "    .dataframe tbody tr th {\n",
       "        vertical-align: top;\n",
       "    }\n",
       "\n",
       "    .dataframe thead th {\n",
       "        text-align: right;\n",
       "    }\n",
       "</style>\n",
       "<table border=\"1\" class=\"dataframe\">\n",
       "  <thead>\n",
       "    <tr style=\"text-align: right;\">\n",
       "      <th></th>\n",
       "      <th>Unnamed: 0</th>\n",
       "      <th>observer_id</th>\n",
       "      <th>login</th>\n",
       "      <th>name</th>\n",
       "      <th>photo_page_url</th>\n",
       "      <th>photo_url_square</th>\n",
       "      <th>photo_uuid</th>\n",
       "      <th>photo_id</th>\n",
       "      <th>extension</th>\n",
       "      <th>license</th>\n",
       "      <th>...</th>\n",
       "      <th>observed_on</th>\n",
       "      <th>quality_grade</th>\n",
       "      <th>taxon_id</th>\n",
       "      <th>taxon_name</th>\n",
       "      <th>rank</th>\n",
       "      <th>rank_level</th>\n",
       "      <th>active</th>\n",
       "      <th>ancestry</th>\n",
       "      <th>fileName</th>\n",
       "      <th>inBloom</th>\n",
       "    </tr>\n",
       "  </thead>\n",
       "  <tbody>\n",
       "    <tr>\n",
       "      <th>0</th>\n",
       "      <td>0</td>\n",
       "      <td>1</td>\n",
       "      <td>kueda</td>\n",
       "      <td>Ken-ichi Ueda</td>\n",
       "      <td>https://www.inaturalist.org/photos/36944</td>\n",
       "      <td>https://inaturalist-open-data.s3.amazonaws.com...</td>\n",
       "      <td>638aecf7-f303-4f42-bee8-6e2517eb5798</td>\n",
       "      <td>36944</td>\n",
       "      <td>jpg</td>\n",
       "      <td>CC-BY</td>\n",
       "      <td>...</td>\n",
       "      <td>2011-06-10</td>\n",
       "      <td>research</td>\n",
       "      <td>78882</td>\n",
       "      <td>Rosa multiflora</td>\n",
       "      <td>species</td>\n",
       "      <td>10.0</td>\n",
       "      <td>True</td>\n",
       "      <td>48460/47126/211194/47125/47124/47132/47148/415...</td>\n",
       "      <td>D:\\Roses\\36944.jpg</td>\n",
       "      <td>True</td>\n",
       "    </tr>\n",
       "    <tr>\n",
       "      <th>1</th>\n",
       "      <td>1</td>\n",
       "      <td>2179</td>\n",
       "      <td>charlie</td>\n",
       "      <td>Charlie Hohn</td>\n",
       "      <td>https://www.inaturalist.org/photos/48170</td>\n",
       "      <td>https://inaturalist-open-data.s3.amazonaws.com...</td>\n",
       "      <td>c081b553-e6bf-4df7-9786-8f678a66583a</td>\n",
       "      <td>48170</td>\n",
       "      <td>jpg</td>\n",
       "      <td>CC-BY</td>\n",
       "      <td>...</td>\n",
       "      <td>2011-08-03</td>\n",
       "      <td>research</td>\n",
       "      <td>78882</td>\n",
       "      <td>Rosa multiflora</td>\n",
       "      <td>species</td>\n",
       "      <td>10.0</td>\n",
       "      <td>True</td>\n",
       "      <td>48460/47126/211194/47125/47124/47132/47148/415...</td>\n",
       "      <td>D:\\Roses\\48170.jpg</td>\n",
       "      <td>False</td>\n",
       "    </tr>\n",
       "    <tr>\n",
       "      <th>2</th>\n",
       "      <td>2</td>\n",
       "      <td>3773</td>\n",
       "      <td>anita363</td>\n",
       "      <td>Anita</td>\n",
       "      <td>https://www.inaturalist.org/photos/94456</td>\n",
       "      <td>https://inaturalist-open-data.s3.amazonaws.com...</td>\n",
       "      <td>ae5f0e5c-c848-415b-9b6a-81407dea87b9</td>\n",
       "      <td>94456</td>\n",
       "      <td>jpg</td>\n",
       "      <td>CC-BY-NC-SA</td>\n",
       "      <td>...</td>\n",
       "      <td>2006-05-25</td>\n",
       "      <td>research</td>\n",
       "      <td>78882</td>\n",
       "      <td>Rosa multiflora</td>\n",
       "      <td>species</td>\n",
       "      <td>10.0</td>\n",
       "      <td>True</td>\n",
       "      <td>48460/47126/211194/47125/47124/47132/47148/415...</td>\n",
       "      <td>D:\\Roses\\94456.jpg</td>\n",
       "      <td>True</td>\n",
       "    </tr>\n",
       "    <tr>\n",
       "      <th>3</th>\n",
       "      <td>3</td>\n",
       "      <td>2179</td>\n",
       "      <td>charlie</td>\n",
       "      <td>Charlie Hohn</td>\n",
       "      <td>https://www.inaturalist.org/photos/91270</td>\n",
       "      <td>https://inaturalist-open-data.s3.amazonaws.com...</td>\n",
       "      <td>c8067ae5-addc-485e-b2f3-c25b820d4920</td>\n",
       "      <td>91270</td>\n",
       "      <td>jpg</td>\n",
       "      <td>CC-BY</td>\n",
       "      <td>...</td>\n",
       "      <td>2012-03-18</td>\n",
       "      <td>research</td>\n",
       "      <td>78882</td>\n",
       "      <td>Rosa multiflora</td>\n",
       "      <td>species</td>\n",
       "      <td>10.0</td>\n",
       "      <td>True</td>\n",
       "      <td>48460/47126/211194/47125/47124/47132/47148/415...</td>\n",
       "      <td>D:\\Roses\\91270.jpg</td>\n",
       "      <td>False</td>\n",
       "    </tr>\n",
       "    <tr>\n",
       "      <th>4</th>\n",
       "      <td>4</td>\n",
       "      <td>3518</td>\n",
       "      <td>jwhittle</td>\n",
       "      <td>Jason Whittle</td>\n",
       "      <td>https://www.inaturalist.org/photos/106185</td>\n",
       "      <td>https://inaturalist-open-data.s3.amazonaws.com...</td>\n",
       "      <td>04d5ab90-176c-4cae-816e-b1746448637d</td>\n",
       "      <td>106185</td>\n",
       "      <td>jpg</td>\n",
       "      <td>CC-BY-NC-ND</td>\n",
       "      <td>...</td>\n",
       "      <td>2012-04-25</td>\n",
       "      <td>research</td>\n",
       "      <td>78882</td>\n",
       "      <td>Rosa multiflora</td>\n",
       "      <td>species</td>\n",
       "      <td>10.0</td>\n",
       "      <td>True</td>\n",
       "      <td>48460/47126/211194/47125/47124/47132/47148/415...</td>\n",
       "      <td>D:\\Roses\\106185.jpg</td>\n",
       "      <td>False</td>\n",
       "    </tr>\n",
       "  </tbody>\n",
       "</table>\n",
       "<p>5 rows × 27 columns</p>\n",
       "</div>"
      ],
      "text/plain": [
       "   Unnamed: 0  observer_id     login           name  \\\n",
       "0           0            1     kueda  Ken-ichi Ueda   \n",
       "1           1         2179   charlie   Charlie Hohn   \n",
       "2           2         3773  anita363          Anita   \n",
       "3           3         2179   charlie   Charlie Hohn   \n",
       "4           4         3518  jwhittle  Jason Whittle   \n",
       "\n",
       "                              photo_page_url  \\\n",
       "0   https://www.inaturalist.org/photos/36944   \n",
       "1   https://www.inaturalist.org/photos/48170   \n",
       "2   https://www.inaturalist.org/photos/94456   \n",
       "3   https://www.inaturalist.org/photos/91270   \n",
       "4  https://www.inaturalist.org/photos/106185   \n",
       "\n",
       "                                    photo_url_square  \\\n",
       "0  https://inaturalist-open-data.s3.amazonaws.com...   \n",
       "1  https://inaturalist-open-data.s3.amazonaws.com...   \n",
       "2  https://inaturalist-open-data.s3.amazonaws.com...   \n",
       "3  https://inaturalist-open-data.s3.amazonaws.com...   \n",
       "4  https://inaturalist-open-data.s3.amazonaws.com...   \n",
       "\n",
       "                             photo_uuid  photo_id extension      license  ...  \\\n",
       "0  638aecf7-f303-4f42-bee8-6e2517eb5798     36944       jpg        CC-BY  ...   \n",
       "1  c081b553-e6bf-4df7-9786-8f678a66583a     48170       jpg        CC-BY  ...   \n",
       "2  ae5f0e5c-c848-415b-9b6a-81407dea87b9     94456       jpg  CC-BY-NC-SA  ...   \n",
       "3  c8067ae5-addc-485e-b2f3-c25b820d4920     91270       jpg        CC-BY  ...   \n",
       "4  04d5ab90-176c-4cae-816e-b1746448637d    106185       jpg  CC-BY-NC-ND  ...   \n",
       "\n",
       "   observed_on  quality_grade taxon_id       taxon_name     rank  rank_level  \\\n",
       "0   2011-06-10       research    78882  Rosa multiflora  species        10.0   \n",
       "1   2011-08-03       research    78882  Rosa multiflora  species        10.0   \n",
       "2   2006-05-25       research    78882  Rosa multiflora  species        10.0   \n",
       "3   2012-03-18       research    78882  Rosa multiflora  species        10.0   \n",
       "4   2012-04-25       research    78882  Rosa multiflora  species        10.0   \n",
       "\n",
       "   active                                           ancestry  \\\n",
       "0    True  48460/47126/211194/47125/47124/47132/47148/415...   \n",
       "1    True  48460/47126/211194/47125/47124/47132/47148/415...   \n",
       "2    True  48460/47126/211194/47125/47124/47132/47148/415...   \n",
       "3    True  48460/47126/211194/47125/47124/47132/47148/415...   \n",
       "4    True  48460/47126/211194/47125/47124/47132/47148/415...   \n",
       "\n",
       "              fileName  inBloom  \n",
       "0   D:\\Roses\\36944.jpg     True  \n",
       "1   D:\\Roses\\48170.jpg    False  \n",
       "2   D:\\Roses\\94456.jpg     True  \n",
       "3   D:\\Roses\\91270.jpg    False  \n",
       "4  D:\\Roses\\106185.jpg    False  \n",
       "\n",
       "[5 rows x 27 columns]"
      ]
     },
     "execution_count": 5,
     "metadata": {},
     "output_type": "execute_result"
    }
   ],
   "source": [
    "#First let's get a plot of average flowering date as a function of year. \n",
    "roses.head()"
   ]
  },
  {
   "cell_type": "code",
   "execution_count": 33,
   "metadata": {},
   "outputs": [],
   "source": [
    "floweringDates = roses[roses['inBloom'] == True]['observed_on'].dropna().to_frame()"
   ]
  },
  {
   "cell_type": "code",
   "execution_count": 71,
   "metadata": {},
   "outputs": [],
   "source": [
    "def days_since_start_of_year(month, day):\n",
    "    days_in_month = [31, 28, 31, 30, 31, 30, 31, 31, 30, 31, 30, 31]\n",
    "    days = sum(days_in_month[:month - 1]) + day\n",
    "    if month > 2 and ((month <= 12 and month % 4 == 0 and month % 100 != 0) or (month % 400 == 0)):\n",
    "        days += 1  # Leap year adjustment\n",
    "    return days\n",
    "\n",
    "def days_to_date(days):\n",
    "    # Find the month and day corresponding to the average number of days\n",
    "    days_in_month = [31, 28, 31, 30, 31, 30, 31, 31, 30, 31, 30, 31]\n",
    "    for i, days_this_month in enumerate(days_in_month):\n",
    "        if days <= days_this_month:\n",
    "            return i + 1, int(days)\n",
    "        days -= days_this_month\n",
    "    return 12, int(days)\n"
   ]
  },
  {
   "cell_type": "code",
   "execution_count": 89,
   "metadata": {},
   "outputs": [],
   "source": [
    "yearList = []\n",
    "daysList = []\n",
    "for i in floweringDates['observed_on']:\n",
    "        yearList.append(int(i[:4]))\n",
    "        daysList.append(days_since_start_of_year(int(i[5:7]), int(i[8:])))\n",
    "floweringDates[\"Year\"] = yearList\n",
    "floweringDates['Days'] = daysList\n",
    "uniqueYears = list(set(yearList))\n",
    "uniqueYears.sort()\n",
    "averageFloweringDays = []\n",
    "for year in uniqueYears:\n",
    "    averageFloweringDays.append(int(floweringDates[floweringDates[\"Year\"] == year]['Days'].mean()))\n"
   ]
  },
  {
   "cell_type": "code",
   "execution_count": 98,
   "metadata": {},
   "outputs": [
    {
     "data": {
      "text/html": [
       "<style>#sk-container-id-1 {color: black;}#sk-container-id-1 pre{padding: 0;}#sk-container-id-1 div.sk-toggleable {background-color: white;}#sk-container-id-1 label.sk-toggleable__label {cursor: pointer;display: block;width: 100%;margin-bottom: 0;padding: 0.3em;box-sizing: border-box;text-align: center;}#sk-container-id-1 label.sk-toggleable__label-arrow:before {content: \"▸\";float: left;margin-right: 0.25em;color: #696969;}#sk-container-id-1 label.sk-toggleable__label-arrow:hover:before {color: black;}#sk-container-id-1 div.sk-estimator:hover label.sk-toggleable__label-arrow:before {color: black;}#sk-container-id-1 div.sk-toggleable__content {max-height: 0;max-width: 0;overflow: hidden;text-align: left;background-color: #f0f8ff;}#sk-container-id-1 div.sk-toggleable__content pre {margin: 0.2em;color: black;border-radius: 0.25em;background-color: #f0f8ff;}#sk-container-id-1 input.sk-toggleable__control:checked~div.sk-toggleable__content {max-height: 200px;max-width: 100%;overflow: auto;}#sk-container-id-1 input.sk-toggleable__control:checked~label.sk-toggleable__label-arrow:before {content: \"▾\";}#sk-container-id-1 div.sk-estimator input.sk-toggleable__control:checked~label.sk-toggleable__label {background-color: #d4ebff;}#sk-container-id-1 div.sk-label input.sk-toggleable__control:checked~label.sk-toggleable__label {background-color: #d4ebff;}#sk-container-id-1 input.sk-hidden--visually {border: 0;clip: rect(1px 1px 1px 1px);clip: rect(1px, 1px, 1px, 1px);height: 1px;margin: -1px;overflow: hidden;padding: 0;position: absolute;width: 1px;}#sk-container-id-1 div.sk-estimator {font-family: monospace;background-color: #f0f8ff;border: 1px dotted black;border-radius: 0.25em;box-sizing: border-box;margin-bottom: 0.5em;}#sk-container-id-1 div.sk-estimator:hover {background-color: #d4ebff;}#sk-container-id-1 div.sk-parallel-item::after {content: \"\";width: 100%;border-bottom: 1px solid gray;flex-grow: 1;}#sk-container-id-1 div.sk-label:hover label.sk-toggleable__label {background-color: #d4ebff;}#sk-container-id-1 div.sk-serial::before {content: \"\";position: absolute;border-left: 1px solid gray;box-sizing: border-box;top: 0;bottom: 0;left: 50%;z-index: 0;}#sk-container-id-1 div.sk-serial {display: flex;flex-direction: column;align-items: center;background-color: white;padding-right: 0.2em;padding-left: 0.2em;position: relative;}#sk-container-id-1 div.sk-item {position: relative;z-index: 1;}#sk-container-id-1 div.sk-parallel {display: flex;align-items: stretch;justify-content: center;background-color: white;position: relative;}#sk-container-id-1 div.sk-item::before, #sk-container-id-1 div.sk-parallel-item::before {content: \"\";position: absolute;border-left: 1px solid gray;box-sizing: border-box;top: 0;bottom: 0;left: 50%;z-index: -1;}#sk-container-id-1 div.sk-parallel-item {display: flex;flex-direction: column;z-index: 1;position: relative;background-color: white;}#sk-container-id-1 div.sk-parallel-item:first-child::after {align-self: flex-end;width: 50%;}#sk-container-id-1 div.sk-parallel-item:last-child::after {align-self: flex-start;width: 50%;}#sk-container-id-1 div.sk-parallel-item:only-child::after {width: 0;}#sk-container-id-1 div.sk-dashed-wrapped {border: 1px dashed gray;margin: 0 0.4em 0.5em 0.4em;box-sizing: border-box;padding-bottom: 0.4em;background-color: white;}#sk-container-id-1 div.sk-label label {font-family: monospace;font-weight: bold;display: inline-block;line-height: 1.2em;}#sk-container-id-1 div.sk-label-container {text-align: center;}#sk-container-id-1 div.sk-container {/* jupyter's `normalize.less` sets `[hidden] { display: none; }` but bootstrap.min.css set `[hidden] { display: none !important; }` so we also need the `!important` here to be able to override the default hidden behavior on the sphinx rendered scikit-learn.org. See: https://github.com/scikit-learn/scikit-learn/issues/21755 */display: inline-block !important;position: relative;}#sk-container-id-1 div.sk-text-repr-fallback {display: none;}</style><div id=\"sk-container-id-1\" class=\"sk-top-container\"><div class=\"sk-text-repr-fallback\"><pre>LinearRegression()</pre><b>In a Jupyter environment, please rerun this cell to show the HTML representation or trust the notebook. <br />On GitHub, the HTML representation is unable to render, please try loading this page with nbviewer.org.</b></div><div class=\"sk-container\" hidden><div class=\"sk-item\"><div class=\"sk-estimator sk-toggleable\"><input class=\"sk-toggleable__control sk-hidden--visually\" id=\"sk-estimator-id-1\" type=\"checkbox\" checked><label for=\"sk-estimator-id-1\" class=\"sk-toggleable__label sk-toggleable__label-arrow\">LinearRegression</label><div class=\"sk-toggleable__content\"><pre>LinearRegression()</pre></div></div></div></div></div>"
      ],
      "text/plain": [
       "LinearRegression()"
      ]
     },
     "execution_count": 98,
     "metadata": {},
     "output_type": "execute_result"
    }
   ],
   "source": [
    "model = LinearRegression()\n",
    "model.fit(np.array(uniqueYears[6:-1]).reshape(-1,1), np.array(averageFloweringDays[6:-1]).reshape(-1,1))"
   ]
  },
  {
   "cell_type": "code",
   "execution_count": 100,
   "metadata": {},
   "outputs": [
    {
     "data": {
      "text/plain": [
       "<matplotlib.legend.Legend at 0x23ecbe9d910>"
      ]
     },
     "execution_count": 100,
     "metadata": {},
     "output_type": "execute_result"
    },
    {
     "data": {
      "image/png": "[encoded data removed]",
      "text/plain": [
       "<Figure size 640x480 with 1 Axes>"
      ]
     },
     "metadata": {},
     "output_type": "display_data"
    }
   ],
   "source": [
    "#There are a few outliers coming from the fact that those years have very few observations. We consider years between 1990 and before 2024. We plot a line of best fit as well.\n",
    "plt.xlabel(\"Year\")\n",
    "plt.ylabel(\"Days Since the Start of the Year\")\n",
    "plt.title(\"Average Day of Flowering Rose Observation\")\n",
    "plt.plot(uniqueYears[6:-1], averageFloweringDays[6:-1], label=\"Data\")\n",
    "x_array = np.arange(1991, 2023, 1)\n",
    "y_array = model.predict(x_array.reshape(-1,1))\n",
    "plt.plot(x_array, y_array, label=\"Line of Best Fit\")\n",
    "plt.legend()"
   ]
  },
  {
   "cell_type": "markdown",
   "metadata": {},
   "source": [
    "We can see that the trend is earlier and earlier in the year. We perform a two-sample t-test to determine whether the mean flowering day before 2020 is ealier than 2020 or later. This date was chosen in order to have a large number of data points both before and after it. "
   ]
  },
  {
   "cell_type": "code",
   "execution_count": 113,
   "metadata": {},
   "outputs": [
    {
     "name": "stdout",
     "output_type": "stream",
     "text": [
      "Variances: \n",
      "1824.5224733759042 1601.0642389124605\n",
      "Means: \n",
      "171.505499276411 168.32639624640532\n"
     ]
    }
   ],
   "source": [
    "beforeData = np.array(list(floweringDates[floweringDates[\"Year\"] < 2020]['Days']))\n",
    "afterData = np.array(list(floweringDates[floweringDates[\"Year\"] >= 2020]['Days']))\n",
    "\n",
    "# Print the variance of both data groups\n",
    "print(\"Variances: \")\n",
    "print(np.var(beforeData), np.var(afterData))\n",
    "print(\"Means: \")\n",
    "print(np.mean(beforeData), np.mean(afterData))"
   ]
  },
  {
   "cell_type": "code",
   "execution_count": 112,
   "metadata": {},
   "outputs": [
    {
     "data": {
      "text/plain": [
       "TtestResult(statistic=8.39313697116405, pvalue=4.8095385208513527e-17, df=79888.0)"
      ]
     },
     "execution_count": 112,
     "metadata": {},
     "output_type": "execute_result"
    }
   ],
   "source": [
    "#We see the ratio < 4 so we can use a 2 sample t-test with equal variances. \n",
    "stats.ttest_ind(beforeData, afterData, equal_var=True)"
   ]
  },
  {
   "cell_type": "markdown",
   "metadata": {},
   "source": [
    "This is the two-sided p-value. Since the after mean is smaller then the one sided p-value would be 1/2 of this. We see that we can be relatively certain that the observed flowering date has gotten earlier in the year when we compare years before 2020 and those after 2019. "
   ]
  }
 ],
 "metadata": {
  "kernelspec": {
   "display_name": "Python 3",
   "language": "python",
   "name": "python3"
  },
  "language_info": {
   "codemirror_mode": {
    "name": "ipython",
    "version": 3
   },
   "file_extension": ".py",
   "mimetype": "text/x-python",
   "name": "python",
   "nbconvert_exporter": "python",
   "pygments_lexer": "ipython3",
   "version": "3.11.3"
  }
 },
 "nbformat": 4,
 "nbformat_minor": 2
}
