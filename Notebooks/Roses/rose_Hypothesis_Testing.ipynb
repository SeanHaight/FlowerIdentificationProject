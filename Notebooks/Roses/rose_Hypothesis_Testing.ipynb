{
 "cells": [
  {
   "cell_type": "code",
   "execution_count": 2,
   "metadata": {},
   "outputs": [],
   "source": [
    "import pandas as pd\n",
    "import matplotlib.pyplot as plt\n",
    "import numpy as np\n",
    "#Get rid of SettingWithCopyWarnings\n",
    "from sklearn.linear_model import LinearRegression\n",
    "pd.options.mode.chained_assignment = None  \n",
    "import scipy.stats as stats"
   ]
  },
  {
   "cell_type": "code",
   "execution_count": 3,
   "metadata": {},
   "outputs": [],
   "source": [
    "#We drop the unnecessary columns\n",
    "roses = pd.read_csv('../../Data/processedData/Roses/labeledBigRose.csv', sep='\\t')\n",
    "roses = roses.drop(['observer_id', 'login', 'name', 'photo_page_url', 'photo_url_square', 'photo_uuid', 'license', 'quality_grade', 'taxon_id', 'rank', 'rank_level', 'active', 'ancestry', 'photo_id', 'extension', 'width', 'height', 'observation_uuid', 'position', 'Unnamed: 0', 'positional_accuracy'], axis=1)\n",
    "roses = roses.dropna()"
   ]
  },
  {
   "cell_type": "code",
   "execution_count": 4,
   "metadata": {},
   "outputs": [
    {
     "data": {
      "text/html": [
       "<div>\n",
       "<style scoped>\n",
       "    .dataframe tbody tr th:only-of-type {\n",
       "        vertical-align: middle;\n",
       "    }\n",
       "\n",
       "    .dataframe tbody tr th {\n",
       "        vertical-align: top;\n",
       "    }\n",
       "\n",
       "    .dataframe thead th {\n",
       "        text-align: right;\n",
       "    }\n",
       "</style>\n",
       "<table border=\"1\" class=\"dataframe\">\n",
       "  <thead>\n",
       "    <tr style=\"text-align: right;\">\n",
       "      <th></th>\n",
       "      <th>latitude</th>\n",
       "      <th>longitude</th>\n",
       "      <th>observed_on</th>\n",
       "      <th>taxon_name</th>\n",
       "      <th>fileName</th>\n",
       "      <th>inBloom</th>\n",
       "      <th>year</th>\n",
       "      <th>day</th>\n",
       "    </tr>\n",
       "  </thead>\n",
       "  <tbody>\n",
       "    <tr>\n",
       "      <th>0</th>\n",
       "      <td>41.414216</td>\n",
       "      <td>-72.581309</td>\n",
       "      <td>2011-06-10</td>\n",
       "      <td>Rosa multiflora</td>\n",
       "      <td>D:\\Roses\\36944.jpg</td>\n",
       "      <td>True</td>\n",
       "      <td>2011</td>\n",
       "      <td>161</td>\n",
       "    </tr>\n",
       "    <tr>\n",
       "      <th>1</th>\n",
       "      <td>44.005329</td>\n",
       "      <td>-73.148262</td>\n",
       "      <td>2011-08-03</td>\n",
       "      <td>Rosa multiflora</td>\n",
       "      <td>D:\\Roses\\48170.jpg</td>\n",
       "      <td>False</td>\n",
       "      <td>2011</td>\n",
       "      <td>215</td>\n",
       "    </tr>\n",
       "    <tr>\n",
       "      <th>2</th>\n",
       "      <td>40.591600</td>\n",
       "      <td>-74.228482</td>\n",
       "      <td>2006-05-25</td>\n",
       "      <td>Rosa multiflora</td>\n",
       "      <td>D:\\Roses\\94456.jpg</td>\n",
       "      <td>True</td>\n",
       "      <td>2006</td>\n",
       "      <td>145</td>\n",
       "    </tr>\n",
       "    <tr>\n",
       "      <th>3</th>\n",
       "      <td>44.167488</td>\n",
       "      <td>-73.136091</td>\n",
       "      <td>2012-03-18</td>\n",
       "      <td>Rosa multiflora</td>\n",
       "      <td>D:\\Roses\\91270.jpg</td>\n",
       "      <td>False</td>\n",
       "      <td>2012</td>\n",
       "      <td>77</td>\n",
       "    </tr>\n",
       "    <tr>\n",
       "      <th>4</th>\n",
       "      <td>40.992833</td>\n",
       "      <td>-81.680167</td>\n",
       "      <td>2012-04-25</td>\n",
       "      <td>Rosa multiflora</td>\n",
       "      <td>D:\\Roses\\106185.jpg</td>\n",
       "      <td>False</td>\n",
       "      <td>2012</td>\n",
       "      <td>115</td>\n",
       "    </tr>\n",
       "  </tbody>\n",
       "</table>\n",
       "</div>"
      ],
      "text/plain": [
       "    latitude  longitude observed_on       taxon_name             fileName  \\\n",
       "0  41.414216 -72.581309  2011-06-10  Rosa multiflora   D:\\Roses\\36944.jpg   \n",
       "1  44.005329 -73.148262  2011-08-03  Rosa multiflora   D:\\Roses\\48170.jpg   \n",
       "2  40.591600 -74.228482  2006-05-25  Rosa multiflora   D:\\Roses\\94456.jpg   \n",
       "3  44.167488 -73.136091  2012-03-18  Rosa multiflora   D:\\Roses\\91270.jpg   \n",
       "4  40.992833 -81.680167  2012-04-25  Rosa multiflora  D:\\Roses\\106185.jpg   \n",
       "\n",
       "   inBloom  year  day  \n",
       "0     True  2011  161  \n",
       "1    False  2011  215  \n",
       "2     True  2006  145  \n",
       "3    False  2012   77  \n",
       "4    False  2012  115  "
      ]
     },
     "execution_count": 4,
     "metadata": {},
     "output_type": "execute_result"
    }
   ],
   "source": [
    "#We add two new columns onto roses that give the year of the observation and the number of days since the beginning of the year for that observation.\n",
    "def get_year(date):\n",
    "    try:\n",
    "        return int(date[:4])\n",
    "    except:\n",
    "        return None\n",
    "\n",
    "def days_since_start_of_year(month, day):\n",
    "    days_in_month = [31, 28, 31, 30, 31, 30, 31, 31, 30, 31, 30, 31]\n",
    "    days = sum(days_in_month[:month - 1]) + day\n",
    "    return days\n",
    "\n",
    "def days_to_date(days):\n",
    "    # Find the month and day corresponding to the average number of days\n",
    "    days_in_month = [31, 28, 31, 30, 31, 30, 31, 31, 30, 31, 30, 31]\n",
    "    for i, days_this_month in enumerate(days_in_month):\n",
    "        if days <= days_this_month:\n",
    "            return i + 1, int(days)\n",
    "        days -= days_this_month\n",
    "    return 12, int(days)\n",
    "\n",
    "def get_day(date):\n",
    "    return days_since_start_of_year(int(date[5:7]), int(date[8:]))\n",
    "\n",
    "\n",
    "roses[\"year\"] = roses['observed_on'].apply(get_year)\n",
    "roses[\"day\"] = roses['observed_on'].apply(get_day)\n",
    "roses.head()"
   ]
  },
  {
   "cell_type": "code",
   "execution_count": 5,
   "metadata": {},
   "outputs": [
    {
     "data": {
      "text/plain": [
       "[<matplotlib.lines.Line2D at 0x22acea93890>]"
      ]
     },
     "execution_count": 5,
     "metadata": {},
     "output_type": "execute_result"
    },
    {
     "data": {
      "image/png": "[encoded data removed]",
      "text/plain": [
       "<Figure size 640x480 with 1 Axes>"
      ]
     },
     "metadata": {},
     "output_type": "display_data"
    }
   ],
   "source": [
    "#First let's look at how our data is distributed over the years. We plot the total number of observations as a function of year. \n",
    "yearList = roses['year'].unique()\n",
    "yearList.sort()\n",
    "counts = []\n",
    "for year in yearList:\n",
    "    counts.append(roses[roses['year'] == year].shape[0])\n",
    "\n",
    "plt.xlabel(\"Year\")\n",
    "plt.ylabel(\"Number of Observations\")\n",
    "plt.title(\"Rose Observations per Year\")\n",
    "plt.plot(yearList, counts)\n"
   ]
  },
  {
   "cell_type": "markdown",
   "metadata": {},
   "source": [
    "We can see that observations before about 2015 are pretty few and far between. We also see that there are only a few observations in 2024. We limit our data to only those observations between 2015 and 2023. This will help eliminate outliers in the data set. This got rid of around 3000 total observations ~1.5% of the data. This will ensure that each year has at least 1000 observations."
   ]
  },
  {
   "cell_type": "code",
   "execution_count": 46,
   "metadata": {},
   "outputs": [
    {
     "data": {
      "text/html": [
       "<div>\n",
       "<style scoped>\n",
       "    .dataframe tbody tr th:only-of-type {\n",
       "        vertical-align: middle;\n",
       "    }\n",
       "\n",
       "    .dataframe tbody tr th {\n",
       "        vertical-align: top;\n",
       "    }\n",
       "\n",
       "    .dataframe thead th {\n",
       "        text-align: right;\n",
       "    }\n",
       "</style>\n",
       "<table border=\"1\" class=\"dataframe\">\n",
       "  <thead>\n",
       "    <tr style=\"text-align: right;\">\n",
       "      <th></th>\n",
       "      <th>latitude</th>\n",
       "      <th>longitude</th>\n",
       "      <th>observed_on</th>\n",
       "      <th>taxon_name</th>\n",
       "      <th>fileName</th>\n",
       "      <th>inBloom</th>\n",
       "      <th>year</th>\n",
       "      <th>day</th>\n",
       "    </tr>\n",
       "  </thead>\n",
       "  <tbody>\n",
       "    <tr>\n",
       "      <th>324</th>\n",
       "      <td>40.664836</td>\n",
       "      <td>-74.595677</td>\n",
       "      <td>2015-01-11</td>\n",
       "      <td>Rosa multiflora</td>\n",
       "      <td>D:\\Roses\\1481814.JPG</td>\n",
       "      <td>False</td>\n",
       "      <td>2015</td>\n",
       "      <td>11</td>\n",
       "    </tr>\n",
       "    <tr>\n",
       "      <th>325</th>\n",
       "      <td>40.640327</td>\n",
       "      <td>-74.448477</td>\n",
       "      <td>2015-01-07</td>\n",
       "      <td>Rosa multiflora</td>\n",
       "      <td>D:\\Roses\\1481860.JPG</td>\n",
       "      <td>False</td>\n",
       "      <td>2015</td>\n",
       "      <td>7</td>\n",
       "    </tr>\n",
       "    <tr>\n",
       "      <th>326</th>\n",
       "      <td>40.634164</td>\n",
       "      <td>-74.490802</td>\n",
       "      <td>2015-01-05</td>\n",
       "      <td>Rosa multiflora</td>\n",
       "      <td>D:\\Roses\\1481904.JPG</td>\n",
       "      <td>False</td>\n",
       "      <td>2015</td>\n",
       "      <td>5</td>\n",
       "    </tr>\n",
       "    <tr>\n",
       "      <th>327</th>\n",
       "      <td>40.632747</td>\n",
       "      <td>-74.461598</td>\n",
       "      <td>2015-01-06</td>\n",
       "      <td>Rosa multiflora</td>\n",
       "      <td>D:\\Roses\\1481928.JPG</td>\n",
       "      <td>False</td>\n",
       "      <td>2015</td>\n",
       "      <td>6</td>\n",
       "    </tr>\n",
       "    <tr>\n",
       "      <th>328</th>\n",
       "      <td>40.602435</td>\n",
       "      <td>-74.532516</td>\n",
       "      <td>2015-01-02</td>\n",
       "      <td>Rosa multiflora</td>\n",
       "      <td>D:\\Roses\\1481961.JPG</td>\n",
       "      <td>False</td>\n",
       "      <td>2015</td>\n",
       "      <td>2</td>\n",
       "    </tr>\n",
       "    <tr>\n",
       "      <th>...</th>\n",
       "      <td>...</td>\n",
       "      <td>...</td>\n",
       "      <td>...</td>\n",
       "      <td>...</td>\n",
       "      <td>...</td>\n",
       "      <td>...</td>\n",
       "      <td>...</td>\n",
       "      <td>...</td>\n",
       "    </tr>\n",
       "    <tr>\n",
       "      <th>193743</th>\n",
       "      <td>48.156175</td>\n",
       "      <td>-122.675383</td>\n",
       "      <td>2022-09-17</td>\n",
       "      <td>Rosa nutkana</td>\n",
       "      <td>D:\\Roses\\346582480.jpg</td>\n",
       "      <td>False</td>\n",
       "      <td>2022</td>\n",
       "      <td>260</td>\n",
       "    </tr>\n",
       "    <tr>\n",
       "      <th>193744</th>\n",
       "      <td>49.194722</td>\n",
       "      <td>-123.003199</td>\n",
       "      <td>2015-06-10</td>\n",
       "      <td>Rosa nutkana</td>\n",
       "      <td>D:\\Roses\\346792124.jpeg</td>\n",
       "      <td>False</td>\n",
       "      <td>2015</td>\n",
       "      <td>161</td>\n",
       "    </tr>\n",
       "    <tr>\n",
       "      <th>193745</th>\n",
       "      <td>49.194722</td>\n",
       "      <td>-123.003199</td>\n",
       "      <td>2015-06-10</td>\n",
       "      <td>Rosa nutkana</td>\n",
       "      <td>D:\\Roses\\346792131.jpeg</td>\n",
       "      <td>True</td>\n",
       "      <td>2015</td>\n",
       "      <td>161</td>\n",
       "    </tr>\n",
       "    <tr>\n",
       "      <th>193746</th>\n",
       "      <td>49.194722</td>\n",
       "      <td>-123.003199</td>\n",
       "      <td>2015-06-10</td>\n",
       "      <td>Rosa nutkana</td>\n",
       "      <td>D:\\Roses\\346792145.jpeg</td>\n",
       "      <td>False</td>\n",
       "      <td>2015</td>\n",
       "      <td>161</td>\n",
       "    </tr>\n",
       "    <tr>\n",
       "      <th>193765</th>\n",
       "      <td>49.517995</td>\n",
       "      <td>-123.227967</td>\n",
       "      <td>2018-10-07</td>\n",
       "      <td>Rosa nutkana</td>\n",
       "      <td>D:\\Roses\\347427472.jpeg</td>\n",
       "      <td>False</td>\n",
       "      <td>2018</td>\n",
       "      <td>280</td>\n",
       "    </tr>\n",
       "  </tbody>\n",
       "</table>\n",
       "<p>189144 rows × 8 columns</p>\n",
       "</div>"
      ],
      "text/plain": [
       "         latitude   longitude observed_on       taxon_name  \\\n",
       "324     40.664836  -74.595677  2015-01-11  Rosa multiflora   \n",
       "325     40.640327  -74.448477  2015-01-07  Rosa multiflora   \n",
       "326     40.634164  -74.490802  2015-01-05  Rosa multiflora   \n",
       "327     40.632747  -74.461598  2015-01-06  Rosa multiflora   \n",
       "328     40.602435  -74.532516  2015-01-02  Rosa multiflora   \n",
       "...           ...         ...         ...              ...   \n",
       "193743  48.156175 -122.675383  2022-09-17     Rosa nutkana   \n",
       "193744  49.194722 -123.003199  2015-06-10     Rosa nutkana   \n",
       "193745  49.194722 -123.003199  2015-06-10     Rosa nutkana   \n",
       "193746  49.194722 -123.003199  2015-06-10     Rosa nutkana   \n",
       "193765  49.517995 -123.227967  2018-10-07     Rosa nutkana   \n",
       "\n",
       "                       fileName  inBloom  year  day  \n",
       "324        D:\\Roses\\1481814.JPG    False  2015   11  \n",
       "325        D:\\Roses\\1481860.JPG    False  2015    7  \n",
       "326        D:\\Roses\\1481904.JPG    False  2015    5  \n",
       "327        D:\\Roses\\1481928.JPG    False  2015    6  \n",
       "328        D:\\Roses\\1481961.JPG    False  2015    2  \n",
       "...                         ...      ...   ...  ...  \n",
       "193743   D:\\Roses\\346582480.jpg    False  2022  260  \n",
       "193744  D:\\Roses\\346792124.jpeg    False  2015  161  \n",
       "193745  D:\\Roses\\346792131.jpeg     True  2015  161  \n",
       "193746  D:\\Roses\\346792145.jpeg    False  2015  161  \n",
       "193765  D:\\Roses\\347427472.jpeg    False  2018  280  \n",
       "\n",
       "[189144 rows x 8 columns]"
      ]
     },
     "execution_count": 46,
     "metadata": {},
     "output_type": "execute_result"
    }
   ],
   "source": [
    "roses = roses[roses['year'] >= 2015]\n",
    "roses = roses[roses['year'] < 2024]\n",
    "roses"
   ]
  },
  {
   "cell_type": "markdown",
   "metadata": {},
   "source": [
    "Now let's see how the average flowering day is trending and how it compares to the average observation day. To do this we'll make a new dataframe with rows indexed by years. "
   ]
  },
  {
   "cell_type": "code",
   "execution_count": 71,
   "metadata": {},
   "outputs": [],
   "source": [
    "\n",
    "observations = pd.DataFrame()\n",
    "observations[\"year\"] = roses['year'].unique()\n",
    "\n",
    "def get_count(year):\n",
    "    return roses[roses['year'] == year].shape[0]\n",
    "    \n",
    "observations['count'] = observations['year'].apply(get_count)\n",
    "\n",
    "def get_flowering_count(year):\n",
    "    observationsFromYear = roses[roses['year'] == year]\n",
    "    observationsFromYearInBloom = observationsFromYear[observationsFromYear['inBloom'] == True]\n",
    "    floweringCount = observationsFromYearInBloom.shape[0]\n",
    "    return floweringCount\n",
    "\n",
    "observations['floweringCount'] = observations['year'].apply(get_flowering_count)\n",
    "\n",
    "def get_flowering_proportion(year):\n",
    "    obCount = observations[observations['year'] == year]['count'].iloc[0]\n",
    "    floweringCount = observations[observations['year'] == year]['floweringCount'].iloc[0]\n",
    "    return floweringCount/obCount\n",
    "\n",
    "observations['floweringProportion'] = observations['year'].apply(get_flowering_proportion)\n",
    "\n",
    "def get_average_flowering_day(year):\n",
    "    observationsFromYear = roses[roses[\"year\"] == year]\n",
    "    observationsFromYearInBloom = observationsFromYear[observationsFromYear['inBloom'] == True]\n",
    "    return int(observationsFromYearInBloom['day'].mean())\n",
    "\n",
    "def get_average_observation_day(year):\n",
    "    return int(roses[roses[\"year\"] == year]['day'].mean())\n",
    "\n",
    "observations['averageFloweringDay'] = observations['year'].apply(get_average_flowering_day)\n",
    "observations['averageObservationDay'] = observations['year'].apply(get_average_observation_day)\n"
   ]
  },
  {
   "cell_type": "markdown",
   "metadata": {},
   "source": [
    "We plot the average flowering day vs the average observation day along with lines of best fit for each. "
   ]
  },
  {
   "cell_type": "code",
   "execution_count": 74,
   "metadata": {},
   "outputs": [
    {
     "data": {
      "text/html": [
       "<style>#sk-container-id-1 {color: black;}#sk-container-id-1 pre{padding: 0;}#sk-container-id-1 div.sk-toggleable {background-color: white;}#sk-container-id-1 label.sk-toggleable__label {cursor: pointer;display: block;width: 100%;margin-bottom: 0;padding: 0.3em;box-sizing: border-box;text-align: center;}#sk-container-id-1 label.sk-toggleable__label-arrow:before {content: \"▸\";float: left;margin-right: 0.25em;color: #696969;}#sk-container-id-1 label.sk-toggleable__label-arrow:hover:before {color: black;}#sk-container-id-1 div.sk-estimator:hover label.sk-toggleable__label-arrow:before {color: black;}#sk-container-id-1 div.sk-toggleable__content {max-height: 0;max-width: 0;overflow: hidden;text-align: left;background-color: #f0f8ff;}#sk-container-id-1 div.sk-toggleable__content pre {margin: 0.2em;color: black;border-radius: 0.25em;background-color: #f0f8ff;}#sk-container-id-1 input.sk-toggleable__control:checked~div.sk-toggleable__content {max-height: 200px;max-width: 100%;overflow: auto;}#sk-container-id-1 input.sk-toggleable__control:checked~label.sk-toggleable__label-arrow:before {content: \"▾\";}#sk-container-id-1 div.sk-estimator input.sk-toggleable__control:checked~label.sk-toggleable__label {background-color: #d4ebff;}#sk-container-id-1 div.sk-label input.sk-toggleable__control:checked~label.sk-toggleable__label {background-color: #d4ebff;}#sk-container-id-1 input.sk-hidden--visually {border: 0;clip: rect(1px 1px 1px 1px);clip: rect(1px, 1px, 1px, 1px);height: 1px;margin: -1px;overflow: hidden;padding: 0;position: absolute;width: 1px;}#sk-container-id-1 div.sk-estimator {font-family: monospace;background-color: #f0f8ff;border: 1px dotted black;border-radius: 0.25em;box-sizing: border-box;margin-bottom: 0.5em;}#sk-container-id-1 div.sk-estimator:hover {background-color: #d4ebff;}#sk-container-id-1 div.sk-parallel-item::after {content: \"\";width: 100%;border-bottom: 1px solid gray;flex-grow: 1;}#sk-container-id-1 div.sk-label:hover label.sk-toggleable__label {background-color: #d4ebff;}#sk-container-id-1 div.sk-serial::before {content: \"\";position: absolute;border-left: 1px solid gray;box-sizing: border-box;top: 0;bottom: 0;left: 50%;z-index: 0;}#sk-container-id-1 div.sk-serial {display: flex;flex-direction: column;align-items: center;background-color: white;padding-right: 0.2em;padding-left: 0.2em;position: relative;}#sk-container-id-1 div.sk-item {position: relative;z-index: 1;}#sk-container-id-1 div.sk-parallel {display: flex;align-items: stretch;justify-content: center;background-color: white;position: relative;}#sk-container-id-1 div.sk-item::before, #sk-container-id-1 div.sk-parallel-item::before {content: \"\";position: absolute;border-left: 1px solid gray;box-sizing: border-box;top: 0;bottom: 0;left: 50%;z-index: -1;}#sk-container-id-1 div.sk-parallel-item {display: flex;flex-direction: column;z-index: 1;position: relative;background-color: white;}#sk-container-id-1 div.sk-parallel-item:first-child::after {align-self: flex-end;width: 50%;}#sk-container-id-1 div.sk-parallel-item:last-child::after {align-self: flex-start;width: 50%;}#sk-container-id-1 div.sk-parallel-item:only-child::after {width: 0;}#sk-container-id-1 div.sk-dashed-wrapped {border: 1px dashed gray;margin: 0 0.4em 0.5em 0.4em;box-sizing: border-box;padding-bottom: 0.4em;background-color: white;}#sk-container-id-1 div.sk-label label {font-family: monospace;font-weight: bold;display: inline-block;line-height: 1.2em;}#sk-container-id-1 div.sk-label-container {text-align: center;}#sk-container-id-1 div.sk-container {/* jupyter's `normalize.less` sets `[hidden] { display: none; }` but bootstrap.min.css set `[hidden] { display: none !important; }` so we also need the `!important` here to be able to override the default hidden behavior on the sphinx rendered scikit-learn.org. See: https://github.com/scikit-learn/scikit-learn/issues/21755 */display: inline-block !important;position: relative;}#sk-container-id-1 div.sk-text-repr-fallback {display: none;}</style><div id=\"sk-container-id-1\" class=\"sk-top-container\"><div class=\"sk-text-repr-fallback\"><pre>LinearRegression()</pre><b>In a Jupyter environment, please rerun this cell to show the HTML representation or trust the notebook. <br />On GitHub, the HTML representation is unable to render, please try loading this page with nbviewer.org.</b></div><div class=\"sk-container\" hidden><div class=\"sk-item\"><div class=\"sk-estimator sk-toggleable\"><input class=\"sk-toggleable__control sk-hidden--visually\" id=\"sk-estimator-id-1\" type=\"checkbox\" checked><label for=\"sk-estimator-id-1\" class=\"sk-toggleable__label sk-toggleable__label-arrow\">LinearRegression</label><div class=\"sk-toggleable__content\"><pre>LinearRegression()</pre></div></div></div></div></div>"
      ],
      "text/plain": [
       "LinearRegression()"
      ]
     },
     "execution_count": 74,
     "metadata": {},
     "output_type": "execute_result"
    }
   ],
   "source": [
    "modelFlower = LinearRegression()\n",
    "modelFlower.fit(np.array(observations['year']).reshape(-1,1), np.array(observations['averageFloweringDay']).reshape(-1,1))\n",
    "\n",
    "modelAll = LinearRegression()\n",
    "modelAll.fit(np.array(observations['year']).reshape(-1,1), np.array(observations['averageObservationDay']).reshape(-1,1))"
   ]
  },
  {
   "cell_type": "code",
   "execution_count": 76,
   "metadata": {},
   "outputs": [
    {
     "data": {
      "text/plain": [
       "<matplotlib.legend.Legend at 0x166078d7cd0>"
      ]
     },
     "execution_count": 76,
     "metadata": {},
     "output_type": "execute_result"
    },
    {
     "data": {
      "image/png": "[encoded data removed]",
      "text/plain": [
       "<Figure size 640x480 with 1 Axes>"
      ]
     },
     "metadata": {},
     "output_type": "display_data"
    }
   ],
   "source": [
    "\n",
    "plt.xlabel(\"Year\")\n",
    "plt.ylabel(\"Days After the Start of the Year\")\n",
    "plt.title(\"Average Days of Flowering Observations vs. All Observations\")\n",
    "\n",
    "plt.plot(observations['year'], observations['averageFloweringDay'], label = 'Average Flowering Day')\n",
    "plt.plot(observations['year'], modelFlower.predict(np.array(observations['year']).reshape(-1,1)))\n",
    "plt.plot(observations['year'], observations['averageObservationDay'], label = 'Average Observation Day')\n",
    "plt.plot(observations['year'], modelAll.predict(np.array(observations['year']).reshape(-1,1)))\n",
    "\n",
    "plt.legend()\n"
   ]
  },
  {
   "cell_type": "markdown",
   "metadata": {},
   "source": [
    "We can see that the trend is earlier and earlier in the year. We perform a two-sample t-test to determine whether the mean flowering day before 2020 is ealier than 2020 or later. This date was chosen in order to have a large number of data points both before and after it. "
   ]
  },
  {
   "cell_type": "code",
   "execution_count": 113,
   "metadata": {},
   "outputs": [
    {
     "name": "stdout",
     "output_type": "stream",
     "text": [
      "Variances: \n",
      "1824.5224733759042 1601.0642389124605\n",
      "Means: \n",
      "171.505499276411 168.32639624640532\n"
     ]
    }
   ],
   "source": [
    "beforeData = np.array(list(floweringDates[floweringDates[\"Year\"] < 2020]['Days']))\n",
    "afterData = np.array(list(floweringDates[floweringDates[\"Year\"] >= 2020]['Days']))\n",
    "\n",
    "# Print the variance of both data groups\n",
    "print(\"Variances: \")\n",
    "print(np.var(beforeData), np.var(afterData))\n",
    "print(\"Means: \")\n",
    "print(np.mean(beforeData), np.mean(afterData))"
   ]
  },
  {
   "cell_type": "code",
   "execution_count": 112,
   "metadata": {},
   "outputs": [
    {
     "data": {
      "text/plain": [
       "TtestResult(statistic=8.39313697116405, pvalue=4.8095385208513527e-17, df=79888.0)"
      ]
     },
     "execution_count": 112,
     "metadata": {},
     "output_type": "execute_result"
    }
   ],
   "source": [
    "#We see the ratio < 4 so we can use a 2 sample t-test with equal variances. \n",
    "stats.ttest_ind(beforeData, afterData, equal_var=True)"
   ]
  },
  {
   "cell_type": "markdown",
   "metadata": {},
   "source": [
    "This is the two-sided p-value. Since the after mean is smaller then the one sided p-value would be 1/2 of this. We see that we can be relatively certain that the observed flowering date has gotten earlier in the year when we compare years before 2020 and those after 2019. "
   ]
  }
 ],
 "metadata": {
  "kernelspec": {
   "display_name": "Python 3",
   "language": "python",
   "name": "python3"
  },
  "language_info": {
   "codemirror_mode": {
    "name": "ipython",
    "version": 3
   },
   "file_extension": ".py",
   "mimetype": "text/x-python",
   "name": "python",
   "nbconvert_exporter": "python",
   "pygments_lexer": "ipython3",
   "version": "3.11.3"
  }
 },
 "nbformat": 4,
 "nbformat_minor": 2
}
